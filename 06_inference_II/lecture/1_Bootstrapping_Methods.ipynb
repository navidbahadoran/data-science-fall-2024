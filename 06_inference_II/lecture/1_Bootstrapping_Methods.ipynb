{
 "cells": [
  {
   "cell_type": "markdown",
   "metadata": {},
   "source": [
    "# Bootstrapping Methods\n",
    "\n",
    "## What we will accomplish in this notebook\n",
    "\n",
    "We discuss the general idea of bootstrapping and present three different methods:\n",
    "- Simulating using a fit model.\n",
    "- Resampling rows from the whole table.\n",
    "- An intermediate method where we resample the residuals of a fit model."
   ]
  },
  {
   "cell_type": "markdown",
   "metadata": {},
   "source": [
    "## What is Bootstrapping?\n",
    "\n",
    "Bootstrapping is a statistical technique used to estimate the distribution of a sample statistic by **resampling with replacement** from the original dataset. This method allows you to assess the variability or uncertainty of a statistic, such as the mean, median, or standard deviation, without making strong assumptions about the underlying population distribution.\n",
    "\n",
    "In broad outline bootstrapping works like this:\n",
    "\n",
    "1.  Bootstrap Resampling: From your original data set of size $n$, you randomly draw a sample of size $n$ **with replacement**. This means that some data points from the original set may appear more than once in the resampled set, while others may not appear at all.\n",
    "\n",
    "2. Repeat: This resampling process is repeated many times, typically thousands or tens of thousands of times, to create a large number of \"bootstrap samples.\"\n",
    "\n",
    "3. Calculate the Statistic: For each bootstrap sample, you calculate the statistic of interest (e.g., mean, median, correlation).\n",
    "\n",
    "4. Build a Distribution: The collection of these calculated statistics forms the bootstrap distribution, which approximates the sampling distribution of the statistic.\n",
    "\n",
    "We will mostly use the bootstrap distribution to build confidence intervals for the bootstrapped statistic. For example, the 2.5th and 97.5th percentiles of the bootstrap distribution might be used to form a 95% confidence interval.\n",
    "\n",
    "WARNING:  The method we just described for building confidence intervals is called the **bootstrap percentile method**.  It should rarely be used!  There are more advanced methods which have much better coverage properties.  We will discuss these in the next notebook.  We are using the percentile method here because it is very easy to understand and implement.\n",
    "\n",
    "The reason that bootstrapping works is, **very roughly**, that if our sample is representative of the population, then bootstrap resamples of the sample should be similar to resampling from the population.  So the distribution of a bootstrapped statistic should give us an idea of the sampling variability of that statistic."
   ]
  },
  {
   "cell_type": "markdown",
   "metadata": {},
   "source": [
    "Let's see this in action using the following dataset sourced from [kaggle](https://www.kaggle.com/datasets/harlfoxem/housesalesprediction/data).\n",
    "\n",
    "> This dataset contains house sale prices for King County, which includes Seattle. It includes homes sold between May 2014 and May 2015.\n",
    "\n",
    "Let's investigate the median home price."
   ]
  },
  {
   "cell_type": "code",
   "execution_count": 12,
   "metadata": {},
   "outputs": [
    {
     "data": {
      "text/html": [
       "<div>\n",
       "<style scoped>\n",
       "    .dataframe tbody tr th:only-of-type {\n",
       "        vertical-align: middle;\n",
       "    }\n",
       "\n",
       "    .dataframe tbody tr th {\n",
       "        vertical-align: top;\n",
       "    }\n",
       "\n",
       "    .dataframe thead th {\n",
       "        text-align: right;\n",
       "    }\n",
       "</style>\n",
       "<table border=\"1\" class=\"dataframe\">\n",
       "  <thead>\n",
       "    <tr style=\"text-align: right;\">\n",
       "      <th></th>\n",
       "      <th>id</th>\n",
       "      <th>date</th>\n",
       "      <th>price</th>\n",
       "      <th>bedrooms</th>\n",
       "      <th>bathrooms</th>\n",
       "      <th>sqft_living</th>\n",
       "      <th>sqft_lot</th>\n",
       "      <th>floors</th>\n",
       "      <th>waterfront</th>\n",
       "      <th>view</th>\n",
       "      <th>...</th>\n",
       "      <th>grade</th>\n",
       "      <th>sqft_above</th>\n",
       "      <th>sqft_basement</th>\n",
       "      <th>yr_built</th>\n",
       "      <th>yr_renovated</th>\n",
       "      <th>zipcode</th>\n",
       "      <th>lat</th>\n",
       "      <th>long</th>\n",
       "      <th>sqft_living15</th>\n",
       "      <th>sqft_lot15</th>\n",
       "    </tr>\n",
       "  </thead>\n",
       "  <tbody>\n",
       "    <tr>\n",
       "      <th>0</th>\n",
       "      <td>7129300520</td>\n",
       "      <td>20141013T000000</td>\n",
       "      <td>221900.0</td>\n",
       "      <td>3</td>\n",
       "      <td>1.00</td>\n",
       "      <td>1180</td>\n",
       "      <td>5650</td>\n",
       "      <td>1.0</td>\n",
       "      <td>0</td>\n",
       "      <td>0</td>\n",
       "      <td>...</td>\n",
       "      <td>7</td>\n",
       "      <td>1180</td>\n",
       "      <td>0</td>\n",
       "      <td>1955</td>\n",
       "      <td>0</td>\n",
       "      <td>98178</td>\n",
       "      <td>47.5112</td>\n",
       "      <td>-122.257</td>\n",
       "      <td>1340</td>\n",
       "      <td>5650</td>\n",
       "    </tr>\n",
       "    <tr>\n",
       "      <th>1</th>\n",
       "      <td>6414100192</td>\n",
       "      <td>20141209T000000</td>\n",
       "      <td>538000.0</td>\n",
       "      <td>3</td>\n",
       "      <td>2.25</td>\n",
       "      <td>2570</td>\n",
       "      <td>7242</td>\n",
       "      <td>2.0</td>\n",
       "      <td>0</td>\n",
       "      <td>0</td>\n",
       "      <td>...</td>\n",
       "      <td>7</td>\n",
       "      <td>2170</td>\n",
       "      <td>400</td>\n",
       "      <td>1951</td>\n",
       "      <td>1991</td>\n",
       "      <td>98125</td>\n",
       "      <td>47.7210</td>\n",
       "      <td>-122.319</td>\n",
       "      <td>1690</td>\n",
       "      <td>7639</td>\n",
       "    </tr>\n",
       "    <tr>\n",
       "      <th>2</th>\n",
       "      <td>5631500400</td>\n",
       "      <td>20150225T000000</td>\n",
       "      <td>180000.0</td>\n",
       "      <td>2</td>\n",
       "      <td>1.00</td>\n",
       "      <td>770</td>\n",
       "      <td>10000</td>\n",
       "      <td>1.0</td>\n",
       "      <td>0</td>\n",
       "      <td>0</td>\n",
       "      <td>...</td>\n",
       "      <td>6</td>\n",
       "      <td>770</td>\n",
       "      <td>0</td>\n",
       "      <td>1933</td>\n",
       "      <td>0</td>\n",
       "      <td>98028</td>\n",
       "      <td>47.7379</td>\n",
       "      <td>-122.233</td>\n",
       "      <td>2720</td>\n",
       "      <td>8062</td>\n",
       "    </tr>\n",
       "    <tr>\n",
       "      <th>3</th>\n",
       "      <td>2487200875</td>\n",
       "      <td>20141209T000000</td>\n",
       "      <td>604000.0</td>\n",
       "      <td>4</td>\n",
       "      <td>3.00</td>\n",
       "      <td>1960</td>\n",
       "      <td>5000</td>\n",
       "      <td>1.0</td>\n",
       "      <td>0</td>\n",
       "      <td>0</td>\n",
       "      <td>...</td>\n",
       "      <td>7</td>\n",
       "      <td>1050</td>\n",
       "      <td>910</td>\n",
       "      <td>1965</td>\n",
       "      <td>0</td>\n",
       "      <td>98136</td>\n",
       "      <td>47.5208</td>\n",
       "      <td>-122.393</td>\n",
       "      <td>1360</td>\n",
       "      <td>5000</td>\n",
       "    </tr>\n",
       "    <tr>\n",
       "      <th>4</th>\n",
       "      <td>1954400510</td>\n",
       "      <td>20150218T000000</td>\n",
       "      <td>510000.0</td>\n",
       "      <td>3</td>\n",
       "      <td>2.00</td>\n",
       "      <td>1680</td>\n",
       "      <td>8080</td>\n",
       "      <td>1.0</td>\n",
       "      <td>0</td>\n",
       "      <td>0</td>\n",
       "      <td>...</td>\n",
       "      <td>8</td>\n",
       "      <td>1680</td>\n",
       "      <td>0</td>\n",
       "      <td>1987</td>\n",
       "      <td>0</td>\n",
       "      <td>98074</td>\n",
       "      <td>47.6168</td>\n",
       "      <td>-122.045</td>\n",
       "      <td>1800</td>\n",
       "      <td>7503</td>\n",
       "    </tr>\n",
       "    <tr>\n",
       "      <th>...</th>\n",
       "      <td>...</td>\n",
       "      <td>...</td>\n",
       "      <td>...</td>\n",
       "      <td>...</td>\n",
       "      <td>...</td>\n",
       "      <td>...</td>\n",
       "      <td>...</td>\n",
       "      <td>...</td>\n",
       "      <td>...</td>\n",
       "      <td>...</td>\n",
       "      <td>...</td>\n",
       "      <td>...</td>\n",
       "      <td>...</td>\n",
       "      <td>...</td>\n",
       "      <td>...</td>\n",
       "      <td>...</td>\n",
       "      <td>...</td>\n",
       "      <td>...</td>\n",
       "      <td>...</td>\n",
       "      <td>...</td>\n",
       "      <td>...</td>\n",
       "    </tr>\n",
       "    <tr>\n",
       "      <th>21608</th>\n",
       "      <td>263000018</td>\n",
       "      <td>20140521T000000</td>\n",
       "      <td>360000.0</td>\n",
       "      <td>3</td>\n",
       "      <td>2.50</td>\n",
       "      <td>1530</td>\n",
       "      <td>1131</td>\n",
       "      <td>3.0</td>\n",
       "      <td>0</td>\n",
       "      <td>0</td>\n",
       "      <td>...</td>\n",
       "      <td>8</td>\n",
       "      <td>1530</td>\n",
       "      <td>0</td>\n",
       "      <td>2009</td>\n",
       "      <td>0</td>\n",
       "      <td>98103</td>\n",
       "      <td>47.6993</td>\n",
       "      <td>-122.346</td>\n",
       "      <td>1530</td>\n",
       "      <td>1509</td>\n",
       "    </tr>\n",
       "    <tr>\n",
       "      <th>21609</th>\n",
       "      <td>6600060120</td>\n",
       "      <td>20150223T000000</td>\n",
       "      <td>400000.0</td>\n",
       "      <td>4</td>\n",
       "      <td>2.50</td>\n",
       "      <td>2310</td>\n",
       "      <td>5813</td>\n",
       "      <td>2.0</td>\n",
       "      <td>0</td>\n",
       "      <td>0</td>\n",
       "      <td>...</td>\n",
       "      <td>8</td>\n",
       "      <td>2310</td>\n",
       "      <td>0</td>\n",
       "      <td>2014</td>\n",
       "      <td>0</td>\n",
       "      <td>98146</td>\n",
       "      <td>47.5107</td>\n",
       "      <td>-122.362</td>\n",
       "      <td>1830</td>\n",
       "      <td>7200</td>\n",
       "    </tr>\n",
       "    <tr>\n",
       "      <th>21610</th>\n",
       "      <td>1523300141</td>\n",
       "      <td>20140623T000000</td>\n",
       "      <td>402101.0</td>\n",
       "      <td>2</td>\n",
       "      <td>0.75</td>\n",
       "      <td>1020</td>\n",
       "      <td>1350</td>\n",
       "      <td>2.0</td>\n",
       "      <td>0</td>\n",
       "      <td>0</td>\n",
       "      <td>...</td>\n",
       "      <td>7</td>\n",
       "      <td>1020</td>\n",
       "      <td>0</td>\n",
       "      <td>2009</td>\n",
       "      <td>0</td>\n",
       "      <td>98144</td>\n",
       "      <td>47.5944</td>\n",
       "      <td>-122.299</td>\n",
       "      <td>1020</td>\n",
       "      <td>2007</td>\n",
       "    </tr>\n",
       "    <tr>\n",
       "      <th>21611</th>\n",
       "      <td>291310100</td>\n",
       "      <td>20150116T000000</td>\n",
       "      <td>400000.0</td>\n",
       "      <td>3</td>\n",
       "      <td>2.50</td>\n",
       "      <td>1600</td>\n",
       "      <td>2388</td>\n",
       "      <td>2.0</td>\n",
       "      <td>0</td>\n",
       "      <td>0</td>\n",
       "      <td>...</td>\n",
       "      <td>8</td>\n",
       "      <td>1600</td>\n",
       "      <td>0</td>\n",
       "      <td>2004</td>\n",
       "      <td>0</td>\n",
       "      <td>98027</td>\n",
       "      <td>47.5345</td>\n",
       "      <td>-122.069</td>\n",
       "      <td>1410</td>\n",
       "      <td>1287</td>\n",
       "    </tr>\n",
       "    <tr>\n",
       "      <th>21612</th>\n",
       "      <td>1523300157</td>\n",
       "      <td>20141015T000000</td>\n",
       "      <td>325000.0</td>\n",
       "      <td>2</td>\n",
       "      <td>0.75</td>\n",
       "      <td>1020</td>\n",
       "      <td>1076</td>\n",
       "      <td>2.0</td>\n",
       "      <td>0</td>\n",
       "      <td>0</td>\n",
       "      <td>...</td>\n",
       "      <td>7</td>\n",
       "      <td>1020</td>\n",
       "      <td>0</td>\n",
       "      <td>2008</td>\n",
       "      <td>0</td>\n",
       "      <td>98144</td>\n",
       "      <td>47.5941</td>\n",
       "      <td>-122.299</td>\n",
       "      <td>1020</td>\n",
       "      <td>1357</td>\n",
       "    </tr>\n",
       "  </tbody>\n",
       "</table>\n",
       "<p>21613 rows × 21 columns</p>\n",
       "</div>"
      ],
      "text/plain": [
       "               id             date     price  bedrooms  bathrooms  \\\n",
       "0      7129300520  20141013T000000  221900.0         3       1.00   \n",
       "1      6414100192  20141209T000000  538000.0         3       2.25   \n",
       "2      5631500400  20150225T000000  180000.0         2       1.00   \n",
       "3      2487200875  20141209T000000  604000.0         4       3.00   \n",
       "4      1954400510  20150218T000000  510000.0         3       2.00   \n",
       "...           ...              ...       ...       ...        ...   \n",
       "21608   263000018  20140521T000000  360000.0         3       2.50   \n",
       "21609  6600060120  20150223T000000  400000.0         4       2.50   \n",
       "21610  1523300141  20140623T000000  402101.0         2       0.75   \n",
       "21611   291310100  20150116T000000  400000.0         3       2.50   \n",
       "21612  1523300157  20141015T000000  325000.0         2       0.75   \n",
       "\n",
       "       sqft_living  sqft_lot  floors  waterfront  view  ...  grade  \\\n",
       "0             1180      5650     1.0           0     0  ...      7   \n",
       "1             2570      7242     2.0           0     0  ...      7   \n",
       "2              770     10000     1.0           0     0  ...      6   \n",
       "3             1960      5000     1.0           0     0  ...      7   \n",
       "4             1680      8080     1.0           0     0  ...      8   \n",
       "...            ...       ...     ...         ...   ...  ...    ...   \n",
       "21608         1530      1131     3.0           0     0  ...      8   \n",
       "21609         2310      5813     2.0           0     0  ...      8   \n",
       "21610         1020      1350     2.0           0     0  ...      7   \n",
       "21611         1600      2388     2.0           0     0  ...      8   \n",
       "21612         1020      1076     2.0           0     0  ...      7   \n",
       "\n",
       "       sqft_above  sqft_basement  yr_built  yr_renovated  zipcode      lat  \\\n",
       "0            1180              0      1955             0    98178  47.5112   \n",
       "1            2170            400      1951          1991    98125  47.7210   \n",
       "2             770              0      1933             0    98028  47.7379   \n",
       "3            1050            910      1965             0    98136  47.5208   \n",
       "4            1680              0      1987             0    98074  47.6168   \n",
       "...           ...            ...       ...           ...      ...      ...   \n",
       "21608        1530              0      2009             0    98103  47.6993   \n",
       "21609        2310              0      2014             0    98146  47.5107   \n",
       "21610        1020              0      2009             0    98144  47.5944   \n",
       "21611        1600              0      2004             0    98027  47.5345   \n",
       "21612        1020              0      2008             0    98144  47.5941   \n",
       "\n",
       "          long  sqft_living15  sqft_lot15  \n",
       "0     -122.257           1340        5650  \n",
       "1     -122.319           1690        7639  \n",
       "2     -122.233           2720        8062  \n",
       "3     -122.393           1360        5000  \n",
       "4     -122.045           1800        7503  \n",
       "...        ...            ...         ...  \n",
       "21608 -122.346           1530        1509  \n",
       "21609 -122.362           1830        7200  \n",
       "21610 -122.299           1020        2007  \n",
       "21611 -122.069           1410        1287  \n",
       "21612 -122.299           1020        1357  \n",
       "\n",
       "[21613 rows x 21 columns]"
      ]
     },
     "execution_count": 12,
     "metadata": {},
     "output_type": "execute_result"
    }
   ],
   "source": [
    "import pandas as pd\n",
    "import numpy as np \n",
    "\n",
    "df = pd.read_csv(\"../data/kc_house_data.csv\")\n",
    "df"
   ]
  },
  {
   "cell_type": "markdown",
   "metadata": {},
   "source": [
    "We will use the [pandas dataframe method](https://pandas.pydata.org/docs/reference/api/pandas.DataFrame.sample.html) `.sample` with `n` taken to be the number of rows and `replace = True` to resample *with* replacement.\n",
    "\n",
    "We will generate 10000 bootstrap samples, calculate the median price of each sample, and store all of these medians. We will then plot a histogram of these bootstrapped medians to get an idea of the distribution of this statistic."
   ]
  },
  {
   "cell_type": "code",
   "execution_count": 13,
   "metadata": {},
   "outputs": [
    {
     "data": {
      "image/png": "[encoded data removed]",
      "text/plain": [
       "<Figure size 640x480 with 1 Axes>"
      ]
     },
     "metadata": {},
     "output_type": "display_data"
    }
   ],
   "source": [
    "import matplotlib.pyplot as plt\n",
    "\n",
    "nobs = df.shape[0]\n",
    "num_resamples = 10000\n",
    "bs_medians = []\n",
    "for i in range(num_resamples): # 10000 bootstrap resamples\n",
    "    bs_sample = df.sample(n = nobs, replace = True) # sampling from df with replacement.\n",
    "    bs_median = bs_sample.price.median() # finding the median price of this resample\n",
    "    bs_medians.append(bs_median) # appending this median price to our list.\n",
    "\n",
    "plt.hist(bs_medians, bins = 20)\n",
    "plt.xlabel('Bootstrapped Medians of Price')  \n",
    "plt.ylabel('Frequency')                      \n",
    "plt.title('Histogram of Bootstrapped Medians') \n",
    "plt.show()"
   ]
  },
  {
   "cell_type": "markdown",
   "metadata": {},
   "source": [
    "Notice that a normality assumption would not be valid here!"
   ]
  },
  {
   "cell_type": "markdown",
   "metadata": {},
   "source": [
    "We can find the $2.5\\%$, %50\\%$ and $97.5\\%$ quantiles as follows:"
   ]
  },
  {
   "cell_type": "code",
   "execution_count": 14,
   "metadata": {},
   "outputs": [
    {
     "name": "stdout",
     "output_type": "stream",
     "text": [
      "2.5th percentile: 449500.0\n",
      "50th percentile (Median): 450000.0\n",
      "97.5th percentile: 455000.0\n"
     ]
    }
   ],
   "source": [
    "quantiles = np.quantile(bs_medians, [0.025, 0.5, 0.975])\n",
    "\n",
    "print(\"2.5th percentile:\", quantiles[0])\n",
    "print(\"50th percentile (Median):\", quantiles[1])\n",
    "print(\"97.5th percentile:\", quantiles[2])"
   ]
  },
  {
   "cell_type": "markdown",
   "metadata": {},
   "source": [
    "In this case the median of the bootstrap medians coincided with the sample median (i.e. the median of `bs_medians` was equal to the median of `df.price`).  This is not always the case, although they should be close.  This kind of consideration is why the percentile method is not always the best.  However, in this instance it seems okay!\n",
    "\n",
    "We can now report $[449500,454950]$ as a $95\\%$ confidence interval for the bootstrap median."
   ]
  },
  {
   "cell_type": "markdown",
   "metadata": {},
   "source": [
    "Now that we have discussed the general idea of bootstrapping, we turn our attention to three different methods in the context of modeling:\n",
    "- A model based bootstrap where we simulate from a fit model.\n",
    "- A model agnostic bootstrap which resamples rows from the whole table.\n",
    "- An intermediate method where we resample the residuals of a fit model."
   ]
  },
  {
   "cell_type": "markdown",
   "metadata": {},
   "source": [
    "## Simulating from a model\n",
    "\n",
    "If we trust our model quite a lot, then we can get an idea of the variability in statistics by simulating from our fit model.\n",
    "\n",
    "Let's do this for a simple linear regression model where we regress price on square feet of living space:\n",
    "\n",
    "$$\n",
    "\\textrm{Price} = \\beta_0 + \\beta_1 (\\textrm{Living Space}) + \\epsilon\n",
    "$$"
   ]
  },
  {
   "cell_type": "code",
   "execution_count": 15,
   "metadata": {},
   "outputs": [
    {
     "data": {
      "image/png": "[encoded data removed]",
      "text/plain": [
       "<Figure size 640x480 with 1 Axes>"
      ]
     },
     "metadata": {},
     "output_type": "display_data"
    }
   ],
   "source": [
    "from sklearn.linear_model import LinearRegression\n",
    "\n",
    "model = LinearRegression()\n",
    "model.fit(df.sqft_living.values.reshape(-1,1), df.price)\n",
    "\n",
    "plt.scatter(df.sqft_living, df.price)\n",
    "\n",
    "xs_for_plotting = np.linspace(0, df.sqft_living.max())\n",
    "plt.plot(xs_for_plotting, model.predict(xs_for_plotting.reshape(-1,1)), '-k')\n",
    "\n",
    "plt.xlabel('Living Area (sq.ft.)')  \n",
    "plt.ylabel('Price (USD)')                      \n",
    "plt.show()"
   ]
  },
  {
   "cell_type": "code",
   "execution_count": 16,
   "metadata": {},
   "outputs": [
    {
     "data": {
      "text/plain": [
       "280.6235678974508"
      ]
     },
     "execution_count": 16,
     "metadata": {},
     "output_type": "execute_result"
    }
   ],
   "source": [
    "model.coef_[0]"
   ]
  },
  {
   "cell_type": "markdown",
   "metadata": {},
   "source": [
    "According to our model, each additional square foot changes the expected value of a home by $\\$280$.  What if we want a confidence interval on that statistic?  In this case we have an analytic formula which we could apply.  Instead, we will use bootstrapping to illustrate the method."
   ]
  },
  {
   "cell_type": "markdown",
   "metadata": {},
   "source": [
    "Just by looking at the graph we can tell that the SLR model assumptions do not hold valid since we have heteroskedasticity.\n",
    "\n",
    "Despite this we will *pretend* that the model assumptions do hold and obtain a confidence interval for the slope by simulating from the fit model.\n",
    "\n",
    "Remember that the unbiased estimate for variance of the error term is $\\frac{1}{n-2}$ (because we estimated $2$ model parameters) times the residual sum of squares:\n",
    "\n",
    "$$\n",
    "\\hat{\\sigma}^2 = \\frac{1}{n-2} \\sum_i^n (y_i - \\hat{y}_i)^2\n",
    "$$"
   ]
  },
  {
   "cell_type": "code",
   "execution_count": 17,
   "metadata": {},
   "outputs": [],
   "source": [
    "predictions = model.predict(df.sqft_living.values.reshape(-1,1))\n",
    "sigma_hat = (1/(nobs - 2)) * ((df.price - predictions)**2).sum()"
   ]
  },
  {
   "cell_type": "markdown",
   "metadata": {},
   "source": [
    "We will now simulate from our model and record the slope of the model when we fit to this simulated data:"
   ]
  },
  {
   "cell_type": "code",
   "execution_count": 18,
   "metadata": {},
   "outputs": [],
   "source": [
    "slopes = []\n",
    "simulated_model = LinearRegression()\n",
    "\n",
    "for i in range(10000):\n",
    "    simulated_prices = predictions + np.random.normal(loc = 0, scale = sigma_hat**0.5, size = nobs)\n",
    "    simulated_model.fit(df.sqft_living.values.reshape(-1,1), simulated_prices)\n",
    "    slopes.append(simulated_model.coef_[0])"
   ]
  },
  {
   "cell_type": "code",
   "execution_count": 19,
   "metadata": {},
   "outputs": [
    {
     "name": "stdout",
     "output_type": "stream",
     "text": [
      "2.5th percentile: 276.79612588097353\n",
      "50th percentile (Median): 280.6286122560924\n",
      "97.5th percentile: 284.4298367502063\n"
     ]
    }
   ],
   "source": [
    "quantiles = np.quantile(slopes, [0.025, 0.5, 0.975])\n",
    "\n",
    "print(\"2.5th percentile:\", quantiles[0])\n",
    "print(\"50th percentile (Median):\", quantiles[1])\n",
    "print(\"97.5th percentile:\", quantiles[2])"
   ]
  },
  {
   "cell_type": "markdown",
   "metadata": {},
   "source": [
    "So we have obtained $[276.8, 284.4]$ as our $95\\%$ confidence interval.  Let's compare that to the confidence interval we would obtain analytically:"
   ]
  },
  {
   "cell_type": "code",
   "execution_count": 20,
   "metadata": {},
   "outputs": [
    {
     "name": "stdout",
     "output_type": "stream",
     "text": [
      "Confidence interval for the slope (sqft_living):\n",
      "276.828083902797 284.4190518920995\n"
     ]
    }
   ],
   "source": [
    "# Refitting model using statsmodels which includes confidence intervals\n",
    "import statsmodels.api as sm\n",
    "\n",
    "# Add a constant (intercept) to the model.  This is the column of ones in the design matrix\n",
    "X = sm.add_constant(df.sqft_living)\n",
    "\n",
    "# Fit the OLS model.  Remember that statsmodels has (y,X) instead of (X,y).\n",
    "model = sm.OLS(df.price, X).fit()\n",
    "\n",
    "slope_confidence_interval = model.conf_int().loc['sqft_living']\n",
    "print(\"Confidence interval for the slope (sqft_living):\")\n",
    "print(slope_confidence_interval[0], slope_confidence_interval[1])"
   ]
  },
  {
   "cell_type": "markdown",
   "metadata": {},
   "source": [
    "We can see that the model based bootstrap gives us confidence intervals which agreed extremely well with the analytical formula."
   ]
  },
  {
   "cell_type": "markdown",
   "metadata": {},
   "source": [
    "## Resampling bootstrap\n",
    "\n",
    "Instead of simulating from our fit model we can instead resample observations."
   ]
  },
  {
   "cell_type": "code",
   "execution_count": 21,
   "metadata": {},
   "outputs": [
    {
     "name": "stdout",
     "output_type": "stream",
     "text": [
      "2.5th percentile: 269.9495094051145\n",
      "97.5th percentile: 291.8045502799592\n"
     ]
    }
   ],
   "source": [
    "slopes = []\n",
    "resampled_model = LinearRegression()\n",
    "\n",
    "for i in range(10000):\n",
    "    resampled_df = df.sample(n=nobs, replace=True)\n",
    "    resampled_model.fit(resampled_df.sqft_living.values.reshape(-1,1), resampled_df.price)\n",
    "    slopes.append(resampled_model.coef_[0])\n",
    "\n",
    "quantiles = np.quantile(slopes, [0.025, 0.5, 0.975])\n",
    "\n",
    "print(\"2.5th percentile:\", quantiles[0])\n",
    "print(\"97.5th percentile:\", quantiles[2])"
   ]
  },
  {
   "cell_type": "markdown",
   "metadata": {},
   "source": [
    "Note that resampling the observations is giving us a wider confidence interval.  That makes sense!  Compared to the simulation based method we are assuming a lot less about the distribution of our data, and the confidence interval is wider as a result.\n",
    "\n",
    "In this case I would trust this model agnostic bootstrap more, as we already discussed that the assumption of the error terms having equal variance is not applicable here.  Even then we are estimating with OLS which assumes equal variance, so we might prefer weighted least squares if we were doing this \"for real\"."
   ]
  },
  {
   "cell_type": "markdown",
   "metadata": {},
   "source": [
    "## Resampling residuals\n",
    "\n",
    "An intermediate method is to resample from the model residuals.  This assumes that the errors are identically distributed (which does not hold here), but doesn't assume that they are normally distributed. "
   ]
  },
  {
   "cell_type": "code",
   "execution_count": 22,
   "metadata": {},
   "outputs": [
    {
     "name": "stdout",
     "output_type": "stream",
     "text": [
      "2.5th percentile: 276.8086792586638\n",
      "97.5th percentile: 284.41855734549415\n"
     ]
    }
   ],
   "source": [
    "slopes = []\n",
    "\n",
    "model = LinearRegression()\n",
    "model.fit(df.sqft_living.values.reshape(-1,1), df.price)\n",
    "\n",
    "predictions = model.predict(df.sqft_living.values.reshape(-1,1))\n",
    "residuals = df.price - predictions\n",
    "\n",
    "resampled_model = LinearRegression()\n",
    "\n",
    "for i in range(10000):\n",
    "    resampled_residuals = np.random.choice(residuals, nobs) # using numpy sampling function since residuals is an array\n",
    "    resampled_model.fit(df.sqft_living.values.reshape(-1,1), predictions + resampled_residuals)\n",
    "    slopes.append(resampled_model.coef_[0])\n",
    "\n",
    "quantiles = np.quantile(slopes, [0.025, 0.5, 0.975])\n",
    "\n",
    "print(\"2.5th percentile:\", quantiles[0])\n",
    "print(\"97.5th percentile:\", quantiles[2])"
   ]
  },
  {
   "cell_type": "markdown",
   "metadata": {},
   "source": [
    "This ended up being pretty similar to the model based bootstrap in this case."
   ]
  }
 ],
 "metadata": {
  "kernelspec": {
   "display_name": "Python 3 (ipykernel)",
   "language": "python",
   "name": "python3"
  },
  "language_info": {
   "codemirror_mode": {
    "name": "ipython",
    "version": 3
   },
   "file_extension": ".py",
   "mimetype": "text/x-python",
   "name": "python",
   "nbconvert_exporter": "python",
   "pygments_lexer": "ipython3",
   "version": "3.11.0"
  },
  "varInspector": {
   "cols": {
    "lenName": 16,
    "lenType": 16,
    "lenVar": 40
   },
   "kernels_config": {
    "python": {
     "delete_cmd_postfix": "",
     "delete_cmd_prefix": "del ",
     "library": "var_list.py",
     "varRefreshCmd": "print(var_dic_list())"
    },
    "r": {
     "delete_cmd_postfix": ") ",
     "delete_cmd_prefix": "rm(",
     "library": "var_list.r",
     "varRefreshCmd": "cat(var_dic_list()) "
    }
   },
   "types_to_exclude": [
    "module",
    "function",
    "builtin_function_or_method",
    "instance",
    "_Feature"
   ],
   "window_display": false
  }
 },
 "nbformat": 4,
 "nbformat_minor": 2
}

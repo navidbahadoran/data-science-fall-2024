{
 "cells": [
  {
   "cell_type": "markdown",
   "metadata": {},
   "source": [
    "# Problem Session 6\n",
    "\n",
    "The problems in this notebook will cover the content covered in our Inference II lectures including:\n",
    "- Bootstapping\n",
    "- Model Specification Testing"
   ]
  },
  {
   "cell_type": "code",
   "execution_count": 1,
   "metadata": {},
   "outputs": [],
   "source": [
    "import numpy as np\n",
    "import pandas as pd"
   ]
  },
  {
   "cell_type": "markdown",
   "metadata": {},
   "source": [
    "#### 1.  Bootstrapping vs ANOVA"
   ]
  },
  {
   "cell_type": "markdown",
   "metadata": {},
   "source": [
    "We introduce a new dataset which records the following variables for 200 students:\n",
    "\n",
    "* `read`: Score on a reading test\n",
    "* `math`: Score on a math test\n",
    "* `prog`: Categorical variable indicating program of study\n",
    "    * Takes values `vocational`, `general`, `academic`\n",
    "* `gre`:  The score on the GRE"
   ]
  },
  {
   "cell_type": "code",
   "execution_count": 2,
   "metadata": {},
   "outputs": [
    {
     "data": {
      "text/html": [
       "<div>\n",
       "<style scoped>\n",
       "    .dataframe tbody tr th:only-of-type {\n",
       "        vertical-align: middle;\n",
       "    }\n",
       "\n",
       "    .dataframe tbody tr th {\n",
       "        vertical-align: top;\n",
       "    }\n",
       "\n",
       "    .dataframe thead th {\n",
       "        text-align: right;\n",
       "    }\n",
       "</style>\n",
       "<table border=\"1\" class=\"dataframe\">\n",
       "  <thead>\n",
       "    <tr style=\"text-align: right;\">\n",
       "      <th></th>\n",
       "      <th>read</th>\n",
       "      <th>math</th>\n",
       "      <th>prog</th>\n",
       "      <th>gre</th>\n",
       "    </tr>\n",
       "    <tr>\n",
       "      <th>id</th>\n",
       "      <th></th>\n",
       "      <th></th>\n",
       "      <th></th>\n",
       "      <th></th>\n",
       "    </tr>\n",
       "  </thead>\n",
       "  <tbody>\n",
       "    <tr>\n",
       "      <th>1</th>\n",
       "      <td>34</td>\n",
       "      <td>40</td>\n",
       "      <td>vocational</td>\n",
       "      <td>352</td>\n",
       "    </tr>\n",
       "    <tr>\n",
       "      <th>2</th>\n",
       "      <td>39</td>\n",
       "      <td>33</td>\n",
       "      <td>vocational</td>\n",
       "      <td>449</td>\n",
       "    </tr>\n",
       "    <tr>\n",
       "      <th>3</th>\n",
       "      <td>63</td>\n",
       "      <td>48</td>\n",
       "      <td>general</td>\n",
       "      <td>648</td>\n",
       "    </tr>\n",
       "    <tr>\n",
       "      <th>4</th>\n",
       "      <td>44</td>\n",
       "      <td>41</td>\n",
       "      <td>general</td>\n",
       "      <td>501</td>\n",
       "    </tr>\n",
       "    <tr>\n",
       "      <th>5</th>\n",
       "      <td>47</td>\n",
       "      <td>43</td>\n",
       "      <td>general</td>\n",
       "      <td>762</td>\n",
       "    </tr>\n",
       "  </tbody>\n",
       "</table>\n",
       "</div>"
      ],
      "text/plain": [
       "    read  math        prog  gre\n",
       "id                             \n",
       "1     34    40  vocational  352\n",
       "2     39    33  vocational  449\n",
       "3     63    48     general  648\n",
       "4     44    41     general  501\n",
       "5     47    43     general  762"
      ]
     },
     "execution_count": 2,
     "metadata": {},
     "output_type": "execute_result"
    }
   ],
   "source": [
    "df = pd.read_csv(\"https://stats.idre.ucla.edu/stat/data/tobit.csv\", names = ['id','read', 'math', 'prog', 'gre'], header = 0, index_col= 'id')\n",
    "df.head()"
   ]
  },
  {
   "cell_type": "markdown",
   "metadata": {},
   "source": [
    "##### (a) Exploratory Data Analysis\n",
    "\n",
    "Do a little EDA.  Some ideas include:\n",
    "\n",
    "* Comparing mean GRE score across different program types.\n",
    "* Plotting GRE against both \"read\" and \"math\" scores, perhaps colored using program type.\n",
    "\n",
    "Is there any other EDA you can think of?\n",
    "\n",
    "Did you notice anything interesting in your EDA?"
   ]
  },
  {
   "cell_type": "code",
   "execution_count": 3,
   "metadata": {},
   "outputs": [
    {
     "data": {
      "text/plain": [
       "prog\n",
       "academic      639.022222\n",
       "general       677.761905\n",
       "vocational    561.720000\n",
       "Name: gre, dtype: float64"
      ]
     },
     "execution_count": 3,
     "metadata": {},
     "output_type": "execute_result"
    }
   ],
   "source": [
    "# Comparing mean GRE score by program type\n",
    "\n",
    "df.groupby('prog').gre.mean()"
   ]
  },
  {
   "cell_type": "code",
   "execution_count": 4,
   "metadata": {},
   "outputs": [
    {
     "data": {
      "image/png": "[encoded data removed]",
      "text/plain": [
       "<Figure size 1400x600 with 2 Axes>"
      ]
     },
     "metadata": {},
     "output_type": "display_data"
    }
   ],
   "source": [
    "import seaborn as sns\n",
    "import matplotlib.pyplot as plt\n",
    "\n",
    "plt.figure(figsize=(14, 6))\n",
    "\n",
    "# Scatter plot for GRE vs. Reading Scores\n",
    "plt.subplot(1, 2, 1)\n",
    "sns.scatterplot(data=df, x='read', y='gre', hue='prog', palette='deep', alpha=0.7)\n",
    "plt.title('GRE vs. Reading Scores')\n",
    "plt.xlabel('Reading Scores')\n",
    "plt.ylabel('GRE Scores')\n",
    "plt.legend()\n",
    "\n",
    "# Scatter plot for GRE vs. Math Scores\n",
    "plt.subplot(1, 2, 2)\n",
    "sns.scatterplot(data=df, x='math', y='gre', hue='prog', palette='deep', alpha=0.7)\n",
    "plt.title('GRE vs. Math Scores')\n",
    "plt.xlabel('Math Scores')\n",
    "plt.ylabel('GRE Scores')\n",
    "plt.legend()\n",
    "\n",
    "plt.tight_layout()\n",
    "plt.show()\n"
   ]
  },
  {
   "cell_type": "markdown",
   "metadata": {},
   "source": [
    "##### (b) ANOVA\n",
    "\n",
    "The mean GRE score for each program type look different, but is this a statistically significant difference?\n",
    "\n",
    "As mentioned in the Linear Regression Inference lecture, one-way ANOVA is the same as an F-test comparing the two nested models\n",
    "\n",
    "$$\n",
    "\\begin{align*}\n",
    "\\textrm{Reduced Model: }\\textrm{GRE} &= \\beta_0 + \\epsilon\\\\\n",
    "\\textrm{Full Model: }\\textrm{GRE} &= \\beta_0 + \\beta_1 \\textrm{Vocational} + \\beta_2 \\textrm{General} + \\epsilon\n",
    "\\end{align*}\n",
    "$$\n",
    "\n",
    "The $p$-value of an $F$-test comparing the full model to the constant model is included in a `statsmodels model` summary.  So fit the full model to the data and see what you get!"
   ]
  },
  {
   "cell_type": "code",
   "execution_count": 5,
   "metadata": {},
   "outputs": [
    {
     "data": {
      "text/html": [
       "<table class=\"simpletable\">\n",
       "<caption>OLS Regression Results</caption>\n",
       "<tr>\n",
       "  <th>Dep. Variable:</th>           <td>gre</td>       <th>  R-squared:         </th> <td>   0.233</td>\n",
       "</tr>\n",
       "<tr>\n",
       "  <th>Model:</th>                   <td>OLS</td>       <th>  Adj. R-squared:    </th> <td>   0.225</td>\n",
       "</tr>\n",
       "<tr>\n",
       "  <th>Method:</th>             <td>Least Squares</td>  <th>  F-statistic:       </th> <td>   29.90</td>\n",
       "</tr>\n",
       "<tr>\n",
       "  <th>Date:</th>             <td>Thu, 17 Oct 2024</td> <th>  Prob (F-statistic):</th> <td>4.58e-12</td>\n",
       "</tr>\n",
       "<tr>\n",
       "  <th>Time:</th>                 <td>09:10:59</td>     <th>  Log-Likelihood:    </th> <td> -1176.2</td>\n",
       "</tr>\n",
       "<tr>\n",
       "  <th>No. Observations:</th>      <td>   200</td>      <th>  AIC:               </th> <td>   2358.</td>\n",
       "</tr>\n",
       "<tr>\n",
       "  <th>Df Residuals:</th>          <td>   197</td>      <th>  BIC:               </th> <td>   2368.</td>\n",
       "</tr>\n",
       "<tr>\n",
       "  <th>Df Model:</th>              <td>     2</td>      <th>                     </th>     <td> </td>   \n",
       "</tr>\n",
       "<tr>\n",
       "  <th>Covariance Type:</th>      <td>nonrobust</td>    <th>                     </th>     <td> </td>   \n",
       "</tr>\n",
       "</table>\n",
       "<table class=\"simpletable\">\n",
       "<tr>\n",
       "            <td></td>               <th>coef</th>     <th>std err</th>      <th>t</th>      <th>P>|t|</th>  <th>[0.025</th>    <th>0.975]</th>  \n",
       "</tr>\n",
       "<tr>\n",
       "  <th>Intercept</th>             <td>  639.0222</td> <td>   13.020</td> <td>   49.079</td> <td> 0.000</td> <td>  613.345</td> <td>  664.699</td>\n",
       "</tr>\n",
       "<tr>\n",
       "  <th>C(prog)[T.general]</th>    <td>   38.7397</td> <td>   15.562</td> <td>    2.489</td> <td> 0.014</td> <td>    8.050</td> <td>   69.430</td>\n",
       "</tr>\n",
       "<tr>\n",
       "  <th>C(prog)[T.vocational]</th> <td>  -77.3022</td> <td>   17.947</td> <td>   -4.307</td> <td> 0.000</td> <td> -112.696</td> <td>  -41.909</td>\n",
       "</tr>\n",
       "</table>\n",
       "<table class=\"simpletable\">\n",
       "<tr>\n",
       "  <th>Omnibus:</th>       <td> 1.465</td> <th>  Durbin-Watson:     </th> <td>   1.898</td>\n",
       "</tr>\n",
       "<tr>\n",
       "  <th>Prob(Omnibus):</th> <td> 0.481</td> <th>  Jarque-Bera (JB):  </th> <td>   1.318</td>\n",
       "</tr>\n",
       "<tr>\n",
       "  <th>Skew:</th>          <td>-0.050</td> <th>  Prob(JB):          </th> <td>   0.517</td>\n",
       "</tr>\n",
       "<tr>\n",
       "  <th>Kurtosis:</th>      <td> 2.615</td> <th>  Cond. No.          </th> <td>    4.62</td>\n",
       "</tr>\n",
       "</table><br/><br/>Notes:<br/>[1] Standard Errors assume that the covariance matrix of the errors is correctly specified."
      ],
      "text/latex": [
       "\\begin{center}\n",
       "\\begin{tabular}{lclc}\n",
       "\\toprule\n",
       "\\textbf{Dep. Variable:}        &       gre        & \\textbf{  R-squared:         } &     0.233   \\\\\n",
       "\\textbf{Model:}                &       OLS        & \\textbf{  Adj. R-squared:    } &     0.225   \\\\\n",
       "\\textbf{Method:}               &  Least Squares   & \\textbf{  F-statistic:       } &     29.90   \\\\\n",
       "\\textbf{Date:}                 & Thu, 17 Oct 2024 & \\textbf{  Prob (F-statistic):} &  4.58e-12   \\\\\n",
       "\\textbf{Time:}                 &     09:10:59     & \\textbf{  Log-Likelihood:    } &   -1176.2   \\\\\n",
       "\\textbf{No. Observations:}     &         200      & \\textbf{  AIC:               } &     2358.   \\\\\n",
       "\\textbf{Df Residuals:}         &         197      & \\textbf{  BIC:               } &     2368.   \\\\\n",
       "\\textbf{Df Model:}             &           2      & \\textbf{                     } &             \\\\\n",
       "\\textbf{Covariance Type:}      &    nonrobust     & \\textbf{                     } &             \\\\\n",
       "\\bottomrule\n",
       "\\end{tabular}\n",
       "\\begin{tabular}{lcccccc}\n",
       "                               & \\textbf{coef} & \\textbf{std err} & \\textbf{t} & \\textbf{P$> |$t$|$} & \\textbf{[0.025} & \\textbf{0.975]}  \\\\\n",
       "\\midrule\n",
       "\\textbf{Intercept}             &     639.0222  &       13.020     &    49.079  &         0.000        &      613.345    &      664.699     \\\\\n",
       "\\textbf{C(prog)[T.general]}    &      38.7397  &       15.562     &     2.489  &         0.014        &        8.050    &       69.430     \\\\\n",
       "\\textbf{C(prog)[T.vocational]} &     -77.3022  &       17.947     &    -4.307  &         0.000        &     -112.696    &      -41.909     \\\\\n",
       "\\bottomrule\n",
       "\\end{tabular}\n",
       "\\begin{tabular}{lclc}\n",
       "\\textbf{Omnibus:}       &  1.465 & \\textbf{  Durbin-Watson:     } &    1.898  \\\\\n",
       "\\textbf{Prob(Omnibus):} &  0.481 & \\textbf{  Jarque-Bera (JB):  } &    1.318  \\\\\n",
       "\\textbf{Skew:}          & -0.050 & \\textbf{  Prob(JB):          } &    0.517  \\\\\n",
       "\\textbf{Kurtosis:}      &  2.615 & \\textbf{  Cond. No.          } &     4.62  \\\\\n",
       "\\bottomrule\n",
       "\\end{tabular}\n",
       "%\\caption{OLS Regression Results}\n",
       "\\end{center}\n",
       "\n",
       "Notes: \\newline\n",
       " [1] Standard Errors assume that the covariance matrix of the errors is correctly specified."
      ],
      "text/plain": [
       "<class 'statsmodels.iolib.summary.Summary'>\n",
       "\"\"\"\n",
       "                            OLS Regression Results                            \n",
       "==============================================================================\n",
       "Dep. Variable:                    gre   R-squared:                       0.233\n",
       "Model:                            OLS   Adj. R-squared:                  0.225\n",
       "Method:                 Least Squares   F-statistic:                     29.90\n",
       "Date:                Thu, 17 Oct 2024   Prob (F-statistic):           4.58e-12\n",
       "Time:                        09:10:59   Log-Likelihood:                -1176.2\n",
       "No. Observations:                 200   AIC:                             2358.\n",
       "Df Residuals:                     197   BIC:                             2368.\n",
       "Df Model:                           2                                         \n",
       "Covariance Type:            nonrobust                                         \n",
       "=========================================================================================\n",
       "                            coef    std err          t      P>|t|      [0.025      0.975]\n",
       "-----------------------------------------------------------------------------------------\n",
       "Intercept               639.0222     13.020     49.079      0.000     613.345     664.699\n",
       "C(prog)[T.general]       38.7397     15.562      2.489      0.014       8.050      69.430\n",
       "C(prog)[T.vocational]   -77.3022     17.947     -4.307      0.000    -112.696     -41.909\n",
       "==============================================================================\n",
       "Omnibus:                        1.465   Durbin-Watson:                   1.898\n",
       "Prob(Omnibus):                  0.481   Jarque-Bera (JB):                1.318\n",
       "Skew:                          -0.050   Prob(JB):                        0.517\n",
       "Kurtosis:                       2.615   Cond. No.                         4.62\n",
       "==============================================================================\n",
       "\n",
       "Notes:\n",
       "[1] Standard Errors assume that the covariance matrix of the errors is correctly specified.\n",
       "\"\"\""
      ]
     },
     "execution_count": 5,
     "metadata": {},
     "output_type": "execute_result"
    }
   ],
   "source": [
    "import statsmodels.api as sm\n",
    "from statsmodels.formula.api import ols\n",
    "\n",
    "# Hint:  C(prog) gives indicator variables for the levels of prog \n",
    "# with one omitted if a constant term is included in the model\n",
    "model = ols('gre ~ C(prog)', data=df).fit()\n",
    "\n",
    "model.summary()"
   ]
  },
  {
   "cell_type": "code",
   "execution_count": 6,
   "metadata": {},
   "outputs": [
    {
     "name": "stdout",
     "output_type": "stream",
     "text": [
      "                sum_sq     df          F        PR(>F)\n",
      "C(prog)   4.561566e+05    2.0  29.896843  4.580003e-12\n",
      "Residual  1.502882e+06  197.0        NaN           NaN\n"
     ]
    }
   ],
   "source": [
    "# Note:  If you would like a traditional \"ANOVA table\" you can get one like this.abs\n",
    "# For statsmodels, ANOVA is just a special display \n",
    "# of a linear regression model with categorical variables\n",
    "\n",
    "anova_table = sm.stats.anova_lm(model, typ=2)\n",
    "\n",
    "# The F statistic and p-value are the same as we obtained in the model summary above.\n",
    "print(anova_table)"
   ]
  },
  {
   "cell_type": "markdown",
   "metadata": {},
   "source": [
    "##### (c) Bootstrap confidence intervals\n",
    "\n",
    "You should have obtained confidence intervals for the mean GRE score of each program type. \n",
    "\n",
    "We will now get confidence intervals by bootstrapping instead!"
   ]
  },
  {
   "cell_type": "code",
   "execution_count": 7,
   "metadata": {},
   "outputs": [
    {
     "name": "stdout",
     "output_type": "stream",
     "text": [
      "Group: vocational, Mean: 561.72, 95% CI (Reverse Bootstrap): [535.46, 587.70]\n",
      "Group: general, Mean: 677.76, 95% CI (Reverse Bootstrap): [660.98, 694.58]\n",
      "Group: academic, Mean: 639.02, 95% CI (Reverse Bootstrap): [616.47, 661.51]\n"
     ]
    }
   ],
   "source": [
    "def bootstrap_ci(data, group_col, outcome_col, n_bootstrap=10000, ci=0.95):\n",
    "    '''\n",
    "    Inputs:\n",
    "        data:  A pandas dataframe.\n",
    "        group_col: The name of the column with the categorical variable.\n",
    "        outcome_col:  The name of the column with the continuous outcome.\n",
    "        n_bootstrap:  The number of bootstrap resamples.  We are resampling the rows of data.\n",
    "        ci: The nominal coverage of confidence interval.\n",
    "    \n",
    "    Outputs:\n",
    "        group_means:  A dictionary\n",
    "            keys:  One key for each unique level of group_col\n",
    "            values:  A tuple (original_mean, ci_lower, ci_upper)\n",
    "                original_mean: The group outcome mean in the original sample.\n",
    "                ci_lower:  Lower limit of the confidence interval.\n",
    "                ci_upper:  Upper limit of the confidence interval.\n",
    "    '''\n",
    "    group_means = {}\n",
    "    lower_percentile = (1 - ci) / 2\n",
    "    upper_percentile = 1 - lower_percentile\n",
    "    \n",
    "    # Get unique groups\n",
    "    groups = data[group_col].unique()\n",
    "    \n",
    "    # Perform percentile bootstrap for each group\n",
    "    for group in groups:\n",
    "        group_data = data[data[group_col] == group][outcome_col].values\n",
    "        original_mean = np.mean(group_data)  # The original sample mean\n",
    "        \n",
    "        # Generate bootstrap samples and means\n",
    "        bootstrap_samples = np.random.choice(group_data, (n_bootstrap, len(group_data)), replace=True)\n",
    "        bootstrap_means = np.mean(bootstrap_samples, axis=1)\n",
    "        \n",
    "        \n",
    "        # Calculate percentile confidence intervals\n",
    "        ci_lower = np.percentile(bootstrap_means, (1 - upper_percentile) * 100)\n",
    "        ci_upper = np.percentile(bootstrap_means, (1 - lower_percentile) * 100)\n",
    "        \n",
    "        group_means[group] = (original_mean, ci_lower, ci_upper)\n",
    "    \n",
    "    return group_means\n",
    "\n",
    "bootstrap_results = bootstrap_ci(df, group_col='prog', outcome_col='gre')\n",
    "\n",
    "# Print the bootstrap mean and confidence intervals for each group\n",
    "for group, (mean, ci_lower, ci_upper) in bootstrap_results.items():\n",
    "    print(f\"Group: {group}, Mean: {mean:.2f}, 95% CI (Reverse Bootstrap): [{ci_lower:.2f}, {ci_upper:.2f}]\")\n"
   ]
  },
  {
   "cell_type": "markdown",
   "metadata": {},
   "source": [
    "#### (2) Regression"
   ]
  },
  {
   "cell_type": "markdown",
   "metadata": {},
   "source": [
    "In this problem we would like to regress `gre` on the other variables.  We *could* estimate this using vanilla OLS linear regression.  However the GRE has a maximum score of 800.  We can see that 17 of the students did actually achieve this score.  [This meme](https://www.youtube.com/shorts/Lb3lj4IhD0U) has a great point:  these students may have had an aptitude which was greater than what the test could measure.\n",
    "\n",
    "One tool for estimating the regression coefficients in this circumstance is [Tobit Regression](https://en.wikipedia.org/wiki/Tobit_model).  The idea is that we should model the GRE score as being given by a latent response which is linear in the predictors.  This latent response is then censored at the upper limit of 800.  We then estimate the model parameters using maximum likelihood."
   ]
  },
  {
   "cell_type": "markdown",
   "metadata": {},
   "source": [
    "Unfortunately it doesn't seem that statsmodels (or any other Python library) contains an implementation.  So I implemented it from scratch by converting [Michael Clark's implementation in R](https://m-clark.github.io/models-by-example/tobit.html) to Python.\n",
    "\n",
    "Note:  This shows why understanding theory can be important!  Sometimes you really do need to \"roll your own\" model.\n",
    "\n",
    "You can check out the code for this TobitModel class which is found in  `tobit_model.py` in this folder."
   ]
  },
  {
   "cell_type": "markdown",
   "metadata": {},
   "source": [
    "Since this is a custom model the implementation is a bit idiosyncratic, and it is definitely not optimized for either speed or usability.  However it does reproduce the results which Michael Clark was getting using R!"
   ]
  },
  {
   "cell_type": "code",
   "execution_count": 8,
   "metadata": {},
   "outputs": [],
   "source": [
    "from tobit_model import TobitModel\n",
    "from sklearn.linear_model import LinearRegression"
   ]
  },
  {
   "cell_type": "code",
   "execution_count": 9,
   "metadata": {},
   "outputs": [
    {
     "data": {
      "image/png": "[encoded data removed]",
      "text/plain": [
       "<Figure size 640x480 with 1 Axes>"
      ]
     },
     "metadata": {},
     "output_type": "display_data"
    }
   ],
   "source": [
    "# Creating some synthetic censored data\n",
    "X = np.linspace(0,10,100)\n",
    "y = 3 + X + np.random.randn(100)\n",
    "y = y * (y < 7) + 7 * (y > 7)\n",
    "\n",
    "# Fitting OLS linear regression model\n",
    "lr = LinearRegression()\n",
    "lr.fit(X.reshape(-1,1),y)\n",
    "\n",
    "# Fitting the Tobit model.  \n",
    "# Notice what parameters are needed for initialization.\n",
    "# ul is the (known) censoring upper limit.\n",
    "\n",
    "# TobitModel requires a design matrix with an initial column of ones.\n",
    "X_tb = np.ones((100,2))\n",
    "X_tb[:,1] = X\n",
    "\n",
    "tb = TobitModel(X = X_tb, y = y, ul = 7)\n",
    "tb.fit()\n",
    "\n",
    "plt.scatter(X, y)\n",
    "plt.plot(X, lr.predict(X.reshape(-1,1)), label = 'OLS fit')\n",
    "plt.plot(X, tb.predict(X_tb), label = 'Tobit fit')\n",
    "plt.legend()\n",
    "\n",
    "plt.show()"
   ]
  },
  {
   "cell_type": "code",
   "execution_count": 10,
   "metadata": {},
   "outputs": [
    {
     "data": {
      "text/plain": [
       "array([2.94525718e+00, 1.04822708e+00, 1.00000000e-05])"
      ]
     },
     "execution_count": 10,
     "metadata": {},
     "output_type": "execute_result"
    }
   ],
   "source": [
    "# [constant term, slope, log of variance]\n",
    "tb.params_"
   ]
  },
  {
   "cell_type": "markdown",
   "metadata": {},
   "source": [
    "As we can see, the OLS model is inappropriate for censored data while the Tobit model does fine!"
   ]
  },
  {
   "cell_type": "markdown",
   "metadata": {},
   "source": [
    "##### (a)\n",
    "\n",
    "Fit the Tobit model on the full dataset:"
   ]
  },
  {
   "cell_type": "code",
   "execution_count": 11,
   "metadata": {},
   "outputs": [],
   "source": [
    "# Make dummy variables for general and vocational levels of prog\n",
    "df['general'] = (pd.get_dummies(df.prog)*1.0).general\n",
    "df['vocational'] = (pd.get_dummies(df.prog)*1.0).vocational\n",
    "\n",
    "# Make a column of ones, needed for my implementation\n",
    "df['constant'] = np.ones(len(df))"
   ]
  },
  {
   "cell_type": "code",
   "execution_count": 12,
   "metadata": {},
   "outputs": [],
   "source": [
    "features = ['constant','read', 'math', 'general', 'vocational']"
   ]
  },
  {
   "cell_type": "code",
   "execution_count": 13,
   "metadata": {},
   "outputs": [],
   "source": [
    "model = TobitModel(X= df[features], y=df.gre.values, ul = 800)"
   ]
  },
  {
   "cell_type": "code",
   "execution_count": 14,
   "metadata": {},
   "outputs": [],
   "source": [
    "model.fit()"
   ]
  },
  {
   "cell_type": "code",
   "execution_count": 15,
   "metadata": {},
   "outputs": [
    {
     "data": {
      "text/plain": [
       "{'constant': 209.56513464753726,\n",
       " 'read': 2.696787710922848,\n",
       " 'math': 5.915723216654197,\n",
       " 'general': -12.715032991958267,\n",
       " 'vocational': -46.14897629075807}"
      ]
     },
     "execution_count": 15,
     "metadata": {},
     "output_type": "execute_result"
    }
   ],
   "source": [
    "{features[i]: model.params_[i] for i in range(len(features))}"
   ]
  },
  {
   "cell_type": "markdown",
   "metadata": {},
   "source": [
    "##### (b) Bootstrapping confidence intervals for the conditional target means.\n",
    "\n",
    "Since this model was not fit using ordinary least squares, the standard formula for the confidence intervals of conditional target means does not apply.  This is the kind of situation where bootstrapping really shines!\n",
    "\n",
    "Complete the definition of the following function:"
   ]
  },
  {
   "cell_type": "code",
   "execution_count": 16,
   "metadata": {},
   "outputs": [],
   "source": [
    "import numpy as np\n",
    "\n",
    "def bs_conditional_mean(X_train, y_train, ul, X_cond, num_bootstrap_samples):\n",
    "    '''\n",
    "    Finds the 'reverse' bootstrap confidence interval for the conditional outcome means of a Tobit model.\n",
    "\n",
    "    Inputs\n",
    "    X_train:  A numpy array with initial column of ones.  Shape is (nobs, 1 + number of features).\n",
    "    y_train:  A numpy array of shape (nobs,).\n",
    "    ul: Upper limit for Tobit Model.\n",
    "    X_cond:   Design matrix for the observations we want to condition on.\n",
    "    num_bootstrap_samples:  Self-explanatory\n",
    "\n",
    "    Outputs:\n",
    "    (lower_bound, upper_bound)\n",
    "    '''\n",
    "    y_cond = np.zeros((X_cond.shape[0], num_bootstrap_samples))\n",
    "    \n",
    "    for i in range(num_bootstrap_samples):\n",
    "        # sample the indices for bootstrap sampling\n",
    "        sample_indices = np.random.choice(range(X_train.shape[0]), size=X_train.shape[0], replace=True)\n",
    "        \n",
    "        # Slice X_boot using sampled indices\n",
    "        X_boot = X_train[sample_indices, :]\n",
    "        y_boot = y_train[sample_indices]\n",
    "\n",
    "        # Initialize and fit the Tobit model\n",
    "        model = TobitModel(X = X_boot, y = y_boot, ul = ul)\n",
    "        model.fit()\n",
    "\n",
    "        # Store predictions for the conditional mean\n",
    "        y_cond[:, i] = model.predict(X_cond)\n",
    "    \n",
    "    # Calculate the lower and upper bounds of the confidence intervals\n",
    "    lower_bound = np.percentile(y_cond, 2.5, axis=1)\n",
    "    upper_bound = np.percentile(y_cond, 97.5, axis=1)\n",
    "\n",
    "    return lower_bound, upper_bound\n"
   ]
  },
  {
   "cell_type": "markdown",
   "metadata": {},
   "source": [
    "Use this to find the confidence interval for the conditional mean GRE score for\n",
    "\n",
    "* `read = 60`, `math = 70`, `prog = general`\n",
    "* `read = 70`, `math = 40`, `prog = vocational`\n"
   ]
  },
  {
   "cell_type": "code",
   "execution_count": 17,
   "metadata": {},
   "outputs": [],
   "source": [
    "X_cond = pd.DataFrame.from_dict({'constant':[1,1], 'read': [60,70],'math':[70,40], 'general': [1,0], 'vocational':[0,1]})"
   ]
  },
  {
   "cell_type": "code",
   "execution_count": 18,
   "metadata": {},
   "outputs": [],
   "source": [
    "lower_ci, upper_ci = bs_conditional_mean(df[features].values, df.gre.values, 800, X_cond, 5)"
   ]
  },
  {
   "cell_type": "code",
   "execution_count": 19,
   "metadata": {},
   "outputs": [
    {
     "data": {
      "text/plain": [
       "(750.7139557068085, 784.8418570688)"
      ]
     },
     "execution_count": 19,
     "metadata": {},
     "output_type": "execute_result"
    }
   ],
   "source": [
    "# Confidence interval for mean GRE conditioned on `read = 60`, `math = 70`, `prog = general`\n",
    "lower_ci[0], upper_ci[0]"
   ]
  },
  {
   "cell_type": "code",
   "execution_count": 20,
   "metadata": {},
   "outputs": [
    {
     "data": {
      "text/plain": [
       "(566.4889492768622, 617.1577215819411)"
      ]
     },
     "execution_count": 20,
     "metadata": {},
     "output_type": "execute_result"
    }
   ],
   "source": [
    "# Confidence interval for mean GRE conditioned on `read = 70`, `math = 40`, `prog = vocational`\n",
    "\n",
    "lower_ci[1], upper_ci[1]"
   ]
  },
  {
   "cell_type": "code",
   "execution_count": 21,
   "metadata": {},
   "outputs": [
    {
     "data": {
      "text/html": [
       "<div>\n",
       "<style scoped>\n",
       "    .dataframe tbody tr th:only-of-type {\n",
       "        vertical-align: middle;\n",
       "    }\n",
       "\n",
       "    .dataframe tbody tr th {\n",
       "        vertical-align: top;\n",
       "    }\n",
       "\n",
       "    .dataframe thead th {\n",
       "        text-align: right;\n",
       "    }\n",
       "</style>\n",
       "<table border=\"1\" class=\"dataframe\">\n",
       "  <thead>\n",
       "    <tr style=\"text-align: right;\">\n",
       "      <th></th>\n",
       "      <th>constant</th>\n",
       "      <th>read</th>\n",
       "      <th>math</th>\n",
       "      <th>general</th>\n",
       "      <th>vocational</th>\n",
       "    </tr>\n",
       "    <tr>\n",
       "      <th>id</th>\n",
       "      <th></th>\n",
       "      <th></th>\n",
       "      <th></th>\n",
       "      <th></th>\n",
       "      <th></th>\n",
       "    </tr>\n",
       "  </thead>\n",
       "  <tbody>\n",
       "    <tr>\n",
       "      <th>1</th>\n",
       "      <td>1.0</td>\n",
       "      <td>34</td>\n",
       "      <td>40</td>\n",
       "      <td>0.0</td>\n",
       "      <td>1.0</td>\n",
       "    </tr>\n",
       "    <tr>\n",
       "      <th>2</th>\n",
       "      <td>1.0</td>\n",
       "      <td>39</td>\n",
       "      <td>33</td>\n",
       "      <td>0.0</td>\n",
       "      <td>1.0</td>\n",
       "    </tr>\n",
       "    <tr>\n",
       "      <th>3</th>\n",
       "      <td>1.0</td>\n",
       "      <td>63</td>\n",
       "      <td>48</td>\n",
       "      <td>1.0</td>\n",
       "      <td>0.0</td>\n",
       "    </tr>\n",
       "    <tr>\n",
       "      <th>4</th>\n",
       "      <td>1.0</td>\n",
       "      <td>44</td>\n",
       "      <td>41</td>\n",
       "      <td>1.0</td>\n",
       "      <td>0.0</td>\n",
       "    </tr>\n",
       "    <tr>\n",
       "      <th>5</th>\n",
       "      <td>1.0</td>\n",
       "      <td>47</td>\n",
       "      <td>43</td>\n",
       "      <td>1.0</td>\n",
       "      <td>0.0</td>\n",
       "    </tr>\n",
       "    <tr>\n",
       "      <th>...</th>\n",
       "      <td>...</td>\n",
       "      <td>...</td>\n",
       "      <td>...</td>\n",
       "      <td>...</td>\n",
       "      <td>...</td>\n",
       "    </tr>\n",
       "    <tr>\n",
       "      <th>196</th>\n",
       "      <td>1.0</td>\n",
       "      <td>44</td>\n",
       "      <td>49</td>\n",
       "      <td>1.0</td>\n",
       "      <td>0.0</td>\n",
       "    </tr>\n",
       "    <tr>\n",
       "      <th>197</th>\n",
       "      <td>1.0</td>\n",
       "      <td>50</td>\n",
       "      <td>50</td>\n",
       "      <td>1.0</td>\n",
       "      <td>0.0</td>\n",
       "    </tr>\n",
       "    <tr>\n",
       "      <th>198</th>\n",
       "      <td>1.0</td>\n",
       "      <td>47</td>\n",
       "      <td>51</td>\n",
       "      <td>1.0</td>\n",
       "      <td>0.0</td>\n",
       "    </tr>\n",
       "    <tr>\n",
       "      <th>199</th>\n",
       "      <td>1.0</td>\n",
       "      <td>52</td>\n",
       "      <td>50</td>\n",
       "      <td>1.0</td>\n",
       "      <td>0.0</td>\n",
       "    </tr>\n",
       "    <tr>\n",
       "      <th>200</th>\n",
       "      <td>1.0</td>\n",
       "      <td>68</td>\n",
       "      <td>75</td>\n",
       "      <td>1.0</td>\n",
       "      <td>0.0</td>\n",
       "    </tr>\n",
       "  </tbody>\n",
       "</table>\n",
       "<p>200 rows × 5 columns</p>\n",
       "</div>"
      ],
      "text/plain": [
       "     constant  read  math  general  vocational\n",
       "id                                            \n",
       "1         1.0    34    40      0.0         1.0\n",
       "2         1.0    39    33      0.0         1.0\n",
       "3         1.0    63    48      1.0         0.0\n",
       "4         1.0    44    41      1.0         0.0\n",
       "5         1.0    47    43      1.0         0.0\n",
       "..        ...   ...   ...      ...         ...\n",
       "196       1.0    44    49      1.0         0.0\n",
       "197       1.0    50    50      1.0         0.0\n",
       "198       1.0    47    51      1.0         0.0\n",
       "199       1.0    52    50      1.0         0.0\n",
       "200       1.0    68    75      1.0         0.0\n",
       "\n",
       "[200 rows x 5 columns]"
      ]
     },
     "execution_count": 21,
     "metadata": {},
     "output_type": "execute_result"
    }
   ],
   "source": [
    "df[features]"
   ]
  },
  {
   "cell_type": "code",
   "execution_count": null,
   "metadata": {},
   "outputs": [],
   "source": []
  }
 ],
 "metadata": {
  "kernelspec": {
   "display_name": "erdos_fall_2024",
   "language": "python",
   "name": "python3"
  },
  "language_info": {
   "codemirror_mode": {
    "name": "ipython",
    "version": 3
   },
   "file_extension": ".py",
   "mimetype": "text/x-python",
   "name": "python",
   "nbconvert_exporter": "python",
   "pygments_lexer": "ipython3",
   "version": "3.12.5"
  }
 },
 "nbformat": 4,
 "nbformat_minor": 2
}

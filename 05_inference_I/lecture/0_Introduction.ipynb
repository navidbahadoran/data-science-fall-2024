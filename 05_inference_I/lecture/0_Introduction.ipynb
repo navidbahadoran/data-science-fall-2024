{
 "cells": [
  {
   "cell_type": "markdown",
   "id": "10c51f1b",
   "metadata": {},
   "source": [
    "# Introduction to Statistical Inference\n",
    "\n",
    "So far we have focused on predictive modeling. We now turn our attention to inference!\n",
    "\n",
    "## What will we accomplish\n",
    "\n",
    "In this notebook we will:\n",
    "- Discuss the difference between predictive modeling and inferential modeling.\n",
    "- Give an overview of the topics we will cover in the two inference lectures."
   ]
  },
  {
   "cell_type": "markdown",
   "id": "95cbb9cb",
   "metadata": {},
   "source": [
    "###  Prediction vs. Inference\n",
    "\n",
    "Imagine that we have access to data from SAT test takers.  Here are two very different questions I could ask:\n",
    "\n",
    "1. How well can I predict the SAT score of a student given only their parents' income, their zip code, and their IQ?\n",
    "2. Controlling for parent income and zip code, is there a statistically significant correlation between IQ and SAT score?\n",
    "\n",
    "The first question lies within the realm of predictive modeling, while the second is inferential.\n",
    "\n",
    "These goals certainly *can* be related, but they need not be.  If the best predictive model is a \"black box\" like kNN it does little to help us with questions 2.  Even our approach to linear regression modeling would be different depending on our goal.  For instance things like $p$-values and confidence intervals are derived under OLS assumptions, and they become biased in the presence of regularization.\n",
    "\n",
    "In this first lecture we will see how many Hypothesis Tests (which you may have seen in intro stats courses) can all be viewed as significance testing of linear regression model coefficients.  These rely on making strong distributional assumptions about our data.\n",
    "\n",
    "In the second lecture we will see how to use bootstrapping to establish confidence intervals for model parameters when such distributional assumptions do not hold."
   ]
  }
 ],
 "metadata": {
  "kernelspec": {
   "display_name": "Python 3 (ipykernel)",
   "language": "python",
   "name": "python3"
  },
  "language_info": {
   "codemirror_mode": {
    "name": "ipython",
    "version": 3
   },
   "file_extension": ".py",
   "mimetype": "text/x-python",
   "name": "python",
   "nbconvert_exporter": "python",
   "pygments_lexer": "ipython3",
   "version": "3.11.0"
  },
  "varInspector": {
   "cols": {
    "lenName": 16,
    "lenType": 16,
    "lenVar": 40
   },
   "kernels_config": {
    "python": {
     "delete_cmd_postfix": "",
     "delete_cmd_prefix": "del ",
     "library": "var_list.py",
     "varRefreshCmd": "print(var_dic_list())"
    },
    "r": {
     "delete_cmd_postfix": ") ",
     "delete_cmd_prefix": "rm(",
     "library": "var_list.r",
     "varRefreshCmd": "cat(var_dic_list()) "
    }
   },
   "types_to_exclude": [
    "module",
    "function",
    "builtin_function_or_method",
    "instance",
    "_Feature"
   ],
   "window_display": false
  }
 },
 "nbformat": 4,
 "nbformat_minor": 5
}

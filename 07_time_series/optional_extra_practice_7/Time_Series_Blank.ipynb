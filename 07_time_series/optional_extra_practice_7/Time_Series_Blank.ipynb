{
 "cells": [
  {
   "cell_type": "markdown",
   "id": "3e7c983c",
   "metadata": {},
   "source": [
    "# Time Series\n",
    "\n",
    "The problems in this notebook correspond to the concepts covered in `Lectures/Supervised Learning/Time Series`."
   ]
  },
  {
   "cell_type": "code",
   "execution_count": null,
   "id": "10476afe",
   "metadata": {},
   "outputs": [],
   "source": [
    "import pandas as pd\n",
    "import numpy as np\n",
    "import matplotlib.pyplot as plt\n",
    "import seaborn as sns\n",
    "sns.set_style(\"whitegrid\")"
   ]
  },
  {
   "cell_type": "markdown",
   "id": "722fc364",
   "metadata": {},
   "source": [
    "##### 1. Happy birthday!\n",
    "\n",
    "Write a `list` comprehension or `for` loop that contains every `datetime` for your birthday from the day you were born to now. Sorry if you were born on a leap day!"
   ]
  },
  {
   "cell_type": "code",
   "execution_count": null,
   "id": "0cc3bf9e",
   "metadata": {},
   "outputs": [],
   "source": [
    "## code here\n",
    "\n",
    "\n"
   ]
  },
  {
   "cell_type": "code",
   "execution_count": null,
   "id": "ef4d6d8e",
   "metadata": {},
   "outputs": [],
   "source": [
    "## code here\n",
    "\n",
    "\n"
   ]
  },
  {
   "cell_type": "markdown",
   "id": "39151c5f",
   "metadata": {},
   "source": [
    "##### 2. Load data\n",
    "\n",
    "- Load the data, `bike_google_trends.csv` from the `data` folder, set aside the last 12 observations as a test set.\n",
    "\n",
    "- Load the data, `goog_trend_pumpkin.csv` from the `data` folder, set aside the last 12 observations as a test set."
   ]
  },
  {
   "cell_type": "code",
   "execution_count": null,
   "id": "0f29c75d",
   "metadata": {},
   "outputs": [],
   "source": [
    "bike = pd.read_csv(\"../../data/bike_google_trends.csv\", parse_dates = ['Month'])"
   ]
  },
  {
   "cell_type": "code",
   "execution_count": null,
   "id": "d42c3c93",
   "metadata": {},
   "outputs": [],
   "source": [
    "bike_test = bike.tail(12).copy()\n",
    "bike_train = bike.drop(bike_test.index).copy()"
   ]
  },
  {
   "cell_type": "code",
   "execution_count": null,
   "id": "a26aed08",
   "metadata": {},
   "outputs": [],
   "source": [
    "pumpkin = pd.read_csv(\"../../data/goog_trend_pumpkin.csv\", parse_dates = ['Month'])"
   ]
  },
  {
   "cell_type": "code",
   "execution_count": null,
   "id": "ea63c2de",
   "metadata": {},
   "outputs": [],
   "source": [
    "pump_test = pumpkin.tail(12).copy()\n",
    "pump_train = pumpkin.drop(pump_test.index).copy()"
   ]
  },
  {
   "cell_type": "markdown",
   "id": "5d321682",
   "metadata": {},
   "source": [
    "##### 3. Seasonal differencing\n",
    "\n",
    "In lecture we talked about first differencing non-stationary time series exhibiting a trend to create a, seemingly, stationary time series.\n",
    "\n",
    "This can also be done for seasonal data. Suppose that we suspect a time series, $\\left\\lbrace y_t \\right\\rbrace$ exhibits seasonality where a season lasts $m$ time steps. Then the first seasonal differenced time series is:\n",
    "\n",
    "$$\n",
    "\\nabla y_t = y_t - y_{t-m}.\n",
    "$$\n",
    "\n",
    "Plot the autocorrelation of the `bike_train` data set, then perform first differencing on these data and plot the autocorrelation of the first differenced series.\n",
    "\n",
    "Does the differenced series appear less likely to violate stationarity?"
   ]
  },
  {
   "cell_type": "code",
   "execution_count": null,
   "id": "e15b3b38",
   "metadata": {},
   "outputs": [],
   "source": [
    "## code here\n",
    "\n",
    "\n"
   ]
  },
  {
   "cell_type": "code",
   "execution_count": null,
   "id": "eb255165",
   "metadata": {},
   "outputs": [],
   "source": [
    "## code here\n",
    "\n",
    "\n"
   ]
  },
  {
   "cell_type": "code",
   "execution_count": null,
   "id": "05677949",
   "metadata": {},
   "outputs": [],
   "source": [
    "## code here\n",
    "\n",
    "\n"
   ]
  },
  {
   "cell_type": "markdown",
   "id": "6a988a36",
   "metadata": {},
   "source": [
    "##### 4. Plotting pumpkins\n",
    "\n",
    "Plot the training data for the `goog_trend_pumpkin.csv` data.  In particular, plot the `pumpkin_trend` over time."
   ]
  },
  {
   "cell_type": "code",
   "execution_count": null,
   "id": "8869a2b1",
   "metadata": {},
   "outputs": [],
   "source": [
    "## code here\n",
    "\n"
   ]
  },
  {
   "cell_type": "markdown",
   "id": "6c4ece25",
   "metadata": {},
   "source": [
    "##### 5. Baselines for seasonality AND trend\n",
    "\n",
    "In `Lectures/Supervised Learning/Time Series Forecasting/4. Baseline Forecasts` we demonstrated six unique forecasts, none of which account for data with seasonality and trend. Here we will demonstrate two more baselines that do account for those.\n",
    "\n",
    "##### a. Seasonal average with trend\n",
    "\n",
    "The first just adds a trend component to the seasonal average baseline forecast:\n",
    "\n",
    "$$\n",
    "f(t) = \\left\\lbrace \\begin{array}{l c c}\\frac{1}{\\left\\lfloor n/m \\right\\rfloor + 1} \\sum_{i=0}^{\\left\\lfloor n/m \\right\\rfloor} y_{t\\%m + i*m} + \\beta (t-\\frac{n}{2}), & \\text{for} & t > n  \\\\\n",
    "                                        y_t & \\text{for} & t\\leq n\n",
    "                                        \\end{array}\\right.,\n",
    "$$\n",
    "\n",
    "where you can estimate $\\beta$ with the average value of the first seasonal differences discussed in 3. above.\n",
    "\n",
    "##### b. Seasonal naive with trend\n",
    "\n",
    "The second adds a trend component to the seasonal naive forecast:\n",
    "\n",
    "$$\n",
    "f(t) = \\left\\lbrace \\begin{array}{l c c}y_\\tau + \\beta(t-n), & \\text{for} & t > n  \\\\\n",
    "                                        y_t & \\text{for} & t\\leq n\n",
    "                                        \\end{array}\\right.,\n",
    "$$\n",
    "\n",
    "where \n",
    "\n",
    "$$\n",
    "\\tau = t - \\left(\\left\\lfloor \\frac{t - n}{m} \\right\\rfloor + 1\\right) m, \\text{ with } \\lfloor \\bullet \\rfloor \\text{ denoting the floor function.}\n",
    "$$\n",
    "\n",
    "\n",
    "Plot both forecasts along with the training and test data for the `goog_trend_pumpkin.csv` `pumpkin_trend` column."
   ]
  },
  {
   "cell_type": "code",
   "execution_count": null,
   "id": "b218424b",
   "metadata": {},
   "outputs": [],
   "source": [
    "##### code here\n",
    "\n",
    "\n"
   ]
  },
  {
   "cell_type": "code",
   "execution_count": null,
   "id": "7b3e8fd7",
   "metadata": {},
   "outputs": [],
   "source": [
    "### code here\n",
    "\n",
    "\n",
    "\n"
   ]
  },
  {
   "cell_type": "code",
   "execution_count": null,
   "id": "f33038b0",
   "metadata": {},
   "outputs": [],
   "source": [
    "##### code here\n",
    "\n",
    "\n"
   ]
  },
  {
   "cell_type": "code",
   "execution_count": null,
   "id": "d641dda1",
   "metadata": {},
   "outputs": [],
   "source": [
    "### code here\n",
    "\n",
    "\n"
   ]
  },
  {
   "cell_type": "markdown",
   "id": "ea94aed3",
   "metadata": {},
   "source": [
    "##### 6. Periodograms\n",
    "\n",
    "While we can sometimes tell the length of a full cycle for periodic data through visual inspection of the time series or its autocorrelation plot, that is not always possible.\n",
    "\n",
    "Another tool we can use to identify the number of time steps in a single cycle is the <i>periodogram</i>. Here we mention some of the theory and show how to make and interpret a periodogram using python.\n",
    "\n",
    "A periodogram first fits the following sum of trigonometric functions:\n",
    "\n",
    "$$\n",
    "a_0 + \\sum_{p = 1}^{n/2 - 1} \\left( a_p \\cos\\left(2\\pi \\frac{pt}{n} \\right) + b_p \\sin\\left( 2\\pi \\frac{pt}{n} \\right) \\right) + a_{N/2} \\cos\\left(\\pi t \\right)\n",
    "$$\n",
    "\n",
    "using fast Fourier transforms and then plots $R_p^2 = a_p^2 + b_p^2$ against the frequency for each value of $p$.  \n",
    "\n",
    "If we recall from trigonometry, for:\n",
    "\n",
    "$$\n",
    "A \\cos\\left(2\\pi \\omega t \\right),\n",
    "$$\n",
    "\n",
    "$A$ gives the amplitude and $\\omega$ gives the frequency. So a larger value of $R_p^2$ indicates that the amplitude on the trigonometric functions at frequency $p$ must be larger, and thus contributes more to the sum. You can then use the fact that $1/\\omega = \\text{the period of the trig function}$, to guess what the period of the time series may be. \n",
    "\n",
    "You can make a periodogram with `scipy`, <a href=\"https://docs.scipy.org/doc/scipy/reference/generated/scipy.signal.periodogrdeam.html\">https://docs.scipy.org/doc/scipy/reference/generated/scipy.signal.periodogrdeam.html</a>.\n",
    "\n",
    "I will demonstrate with the `bike_train` data set and you should try to make a periodogram for the training data of the `pumpkin` data set.\n",
    "\n",
    "What seems to be the period of these data according to the periodogram?"
   ]
  },
  {
   "cell_type": "code",
   "execution_count": null,
   "id": "79e03122",
   "metadata": {},
   "outputs": [],
   "source": [
    "from scipy.signal import periodogram"
   ]
  },
  {
   "cell_type": "code",
   "execution_count": null,
   "id": "eadc3abc",
   "metadata": {},
   "outputs": [],
   "source": [
    "## call periodogram then input then the time series\n",
    "## the first array returned are the frequencies\n",
    "## the second the value of R_p^2\n",
    "periodogram(bike_train.bike_interest)"
   ]
  },
  {
   "cell_type": "code",
   "execution_count": null,
   "id": "e0995698",
   "metadata": {},
   "outputs": [],
   "source": [
    "plt.figure(figsize=(18,6))\n",
    "\n",
    "plt.scatter(periodogram(bike_train.bike_interest)[0],\n",
    "                   periodogram(bike_train.bike_interest)[1])\n",
    "\n",
    "plt.xlabel(\"$\\omega$\", fontsize=18)\n",
    "plt.xticks(fontsize=14)\n",
    "\n",
    "plt.ylabel(\"$R_p^2$\", fontsize=18)\n",
    "plt.yticks(fontsize=14)\n",
    "\n",
    "plt.title(\"Bike Google Trend Periodogram\", fontsize=20)\n",
    "\n",
    "plt.show()"
   ]
  },
  {
   "cell_type": "code",
   "execution_count": null,
   "id": "7e7f9d4b",
   "metadata": {},
   "outputs": [],
   "source": [
    "## You should round to the nearest time step hered\n",
    "1/(periodogram(bike_train.bike_interest)[0][np.argmax(periodogram(bike_train.bike_interest)[1])])"
   ]
  },
  {
   "cell_type": "code",
   "execution_count": null,
   "id": "2d55712a",
   "metadata": {},
   "outputs": [],
   "source": [
    "### code here\n",
    "\n",
    "\n"
   ]
  },
  {
   "cell_type": "code",
   "execution_count": null,
   "id": "a9bc91bc",
   "metadata": {},
   "outputs": [],
   "source": [
    "## code here\n",
    "\n"
   ]
  },
  {
   "cell_type": "markdown",
   "id": "3d285096",
   "metadata": {},
   "source": [
    "##### References for 6.\n",
    "\n",
    "To read more about this so called <i>spectral analysis</i> check out:\n",
    "\n",
    "<a href=\"https://mybiostats.files.wordpress.com/2015/03/time-series-analysis-and-its-applications-with-examples-in-r.pdf\">Time Series Analysis & its Applications</a>, by Robert H. Shumway and David S. Stoffer."
   ]
  },
  {
   "cell_type": "markdown",
   "id": "cfb750fb",
   "metadata": {},
   "source": [
    "##### 7. SARIMA\n",
    "\n",
    "We can fit SARIMA using the `SARIMAX` model object from `statsmodels`. Below I demonstrate how with the `bike` data set and you will do so using the `pumpkin` data set.\n",
    "\n",
    "We also demonstrate the use of `auto_arima` from `pmdarima` which does a hyperparameter search by minimizing AIC."
   ]
  },
  {
   "cell_type": "code",
   "execution_count": null,
   "id": "b81bf953",
   "metadata": {},
   "outputs": [],
   "source": [
    "from statsmodels.tsa.api import SARIMAX\n",
    "from pmdarima import auto_arima"
   ]
  },
  {
   "cell_type": "code",
   "execution_count": null,
   "id": "1ba8e321",
   "metadata": {},
   "outputs": [],
   "source": [
    "auto_arima(bike_train.bike_interest.values, trace=True, seasonal=True, m=12)"
   ]
  },
  {
   "cell_type": "code",
   "execution_count": null,
   "id": "d18121b1",
   "metadata": {},
   "outputs": [],
   "source": [
    "sarima = SARIMAX(bike_train.bike_interest.values,\n",
    "                    order = (1,0,2),\n",
    "                    seasonal_order = (1,0,1,12)).fit()"
   ]
  },
  {
   "cell_type": "code",
   "execution_count": null,
   "id": "3804314b",
   "metadata": {},
   "outputs": [],
   "source": [
    "plt.figure(figsize=(16,6))\n",
    "\n",
    "plt.plot(bike_train.Month,\n",
    "            bike_train.bike_interest,\n",
    "            'b',\n",
    "            label=\"Training Set\")\n",
    "\n",
    "plt.plot(bike_train.Month[12:],\n",
    "            sarima.fittedvalues[12:],\n",
    "            c='green',\n",
    "            label=\"Fit on Training\")\n",
    "\n",
    "plt.plot(bike_test.Month,\n",
    "            bike_test.bike_interest,\n",
    "            'r',\n",
    "            label=\"Test Set\")\n",
    "\n",
    "plt.plot(bike_test.Month,\n",
    "            sarima.forecast(len(bike_test)),\n",
    "            'r.-',\n",
    "            label=\"Forecast\")\n",
    "\n",
    "plt.legend(fontsize=14, loc=2)\n",
    "\n",
    "\n",
    "plt.xlabel(\"Date\", fontsize=16)\n",
    "plt.ylabel(\"Bike Google Trend Interest\", fontsize=16)\n",
    "\n",
    "plt.show()"
   ]
  },
  {
   "cell_type": "code",
   "execution_count": null,
   "id": "5d8b2567",
   "metadata": {},
   "outputs": [],
   "source": [
    "## code here\n",
    "\n"
   ]
  },
  {
   "cell_type": "code",
   "execution_count": null,
   "id": "165882d1",
   "metadata": {},
   "outputs": [],
   "source": [
    "## code here\n",
    "\n",
    "\n"
   ]
  },
  {
   "cell_type": "markdown",
   "id": "571621ff",
   "metadata": {},
   "source": [
    "--------------------------\n",
    "\n",
    "This notebook was written for the Erd&#337;s Institute C&#337;de Data Science Boot Camp by Matthew Osborne, Ph. D., 2023.\n",
    "\n",
    "Any potential redistributors must seek and receive permission from Matthew Tyler Osborne, Ph.D. prior to redistribution. Redistribution of the material contained in this repository is conditional on acknowledgement of Matthew Tyler Osborne, Ph.D.'s original authorship and sponsorship of the Erdős Institute as subject to the license (see License.md)"
   ]
  },
  {
   "cell_type": "code",
   "execution_count": null,
   "id": "360487b1",
   "metadata": {},
   "outputs": [],
   "source": []
  }
 ],
 "metadata": {
  "kernelspec": {
   "display_name": "Python 3 (ipykernel)",
   "language": "python",
   "name": "python3"
  },
  "language_info": {
   "codemirror_mode": {
    "name": "ipython",
    "version": 3
   },
   "file_extension": ".py",
   "mimetype": "text/x-python",
   "name": "python",
   "nbconvert_exporter": "python",
   "pygments_lexer": "ipython3",
   "version": "3.9.16"
  }
 },
 "nbformat": 4,
 "nbformat_minor": 5
}

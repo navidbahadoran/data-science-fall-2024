{
 "cells": [
  {
   "cell_type": "markdown",
   "id": "d1abeaef",
   "metadata": {},
   "source": [
    "# Prep Notebook 7\n",
    "## Forecasting The Bachelorette and Pumpkin Spice II\n",
    "\n",
    "This optional notebook has a few exercises that can serve as a primer for what to expect in the `Problem Session 7` notebook."
   ]
  },
  {
   "cell_type": "code",
   "execution_count": null,
   "id": "c2ca9dc5",
   "metadata": {},
   "outputs": [],
   "source": [
    "import pandas as pd\n",
    "import numpy as np\n",
    "import matplotlib.pyplot as plt\n",
    "from seaborn import set_style\n",
    "from datetime import datetime\n",
    "\n",
    "set_style(\"whitegrid\")"
   ]
  },
  {
   "cell_type": "markdown",
   "id": "1b35cc3c",
   "metadata": {},
   "source": [
    "#### 1. Loading `pumpkin_spice.csv`\n",
    "\n",
    "Load `pumpkin_spice.csv` using `.read_csv`. When you read in the data pass the `Month` column as an argument to `parse_dates`."
   ]
  },
  {
   "cell_type": "code",
   "execution_count": null,
   "id": "264acb25",
   "metadata": {},
   "outputs": [],
   "source": [
    "## code here\n"
   ]
  },
  {
   "cell_type": "markdown",
   "id": "4cea1dce",
   "metadata": {},
   "source": [
    "#### 2. Train test split\n",
    "\n",
    "Make a train test split of the data from <b>1.</b>. Set the test set to be all observations on or after February 1, 2019."
   ]
  },
  {
   "cell_type": "code",
   "execution_count": null,
   "id": "843242fe",
   "metadata": {},
   "outputs": [],
   "source": [
    "## code here\n"
   ]
  },
  {
   "cell_type": "code",
   "execution_count": null,
   "id": "5fc5caf2",
   "metadata": {},
   "outputs": [],
   "source": [
    "## code here\n"
   ]
  },
  {
   "cell_type": "markdown",
   "id": "beee83ff",
   "metadata": {},
   "source": [
    "#### 3. Time series cross-validation\n",
    "\n",
    "Perform 7-fold cross-validation on the training set, use a test set size of 5."
   ]
  },
  {
   "cell_type": "code",
   "execution_count": null,
   "id": "b4120b1f",
   "metadata": {},
   "outputs": [],
   "source": [
    "## code here\n"
   ]
  },
  {
   "cell_type": "code",
   "execution_count": null,
   "id": "99c908e3",
   "metadata": {},
   "outputs": [],
   "source": [
    "## code here\n"
   ]
  },
  {
   "cell_type": "code",
   "execution_count": null,
   "id": "c1b9a51e",
   "metadata": {},
   "outputs": [],
   "source": [
    "## code here\n"
   ]
  },
  {
   "cell_type": "markdown",
   "id": "9ae50f41",
   "metadata": {},
   "source": [
    "#### 4. Naive model\n",
    "\n",
    "Record the mean squared error of the naive model predicting `interest_level` for each of the cross-validation splits from <b>3.</b>"
   ]
  },
  {
   "cell_type": "code",
   "execution_count": null,
   "id": "44567555",
   "metadata": {},
   "outputs": [],
   "source": [
    "## code here\n"
   ]
  },
  {
   "cell_type": "code",
   "execution_count": null,
   "id": "b80d06dc",
   "metadata": {},
   "outputs": [],
   "source": [
    "## code here\n"
   ]
  },
  {
   "cell_type": "code",
   "execution_count": null,
   "id": "417deb17",
   "metadata": {},
   "outputs": [],
   "source": [
    "## code here\n"
   ]
  },
  {
   "cell_type": "code",
   "execution_count": null,
   "id": "9eebfc7b",
   "metadata": {},
   "outputs": [],
   "source": [
    "## code here\n"
   ]
  },
  {
   "cell_type": "markdown",
   "id": "10201937",
   "metadata": {},
   "source": [
    "#### 5. Yet another plot\n",
    "\n",
    "Use the training data to plot the `interest_level` against the `Month` as a solid blue line with each observation marked with a point. Do the same for the training data but with a red dotted line. Finally plot the forecast from the naive model as red \"X\"s. Be sure to label your plot."
   ]
  },
  {
   "cell_type": "code",
   "execution_count": null,
   "id": "c9914cf7",
   "metadata": {},
   "outputs": [],
   "source": [
    "## code here\n"
   ]
  },
  {
   "cell_type": "code",
   "execution_count": null,
   "id": "860f052f",
   "metadata": {},
   "outputs": [],
   "source": [
    "## code here\n"
   ]
  },
  {
   "cell_type": "code",
   "execution_count": null,
   "id": "e366e99b",
   "metadata": {},
   "outputs": [],
   "source": [
    "## code here\n"
   ]
  },
  {
   "cell_type": "markdown",
   "id": "410b1049",
   "metadata": {},
   "source": [
    "--------------------------\n",
    "\n",
    "This notebook was written for the Erd&#337;s Institute C&#337;de Data Science Boot Camp by Matthew Osborne, Ph. D., 2023.\n",
    "\n",
    "Any potential redistributors must seek and receive permission from Matthew Tyler Osborne, Ph.D. prior to redistribution. Redistribution of the material contained in this repository is conditional on acknowledgement of Matthew Tyler Osborne, Ph.D.'s original authorship and sponsorship of the Erdős Institute as subject to the license (see License.md)"
   ]
  },
  {
   "cell_type": "code",
   "execution_count": null,
   "id": "5ed7f266",
   "metadata": {},
   "outputs": [],
   "source": []
  }
 ],
 "metadata": {
  "kernelspec": {
   "display_name": "Python 3 (ipykernel)",
   "language": "python",
   "name": "python3"
  },
  "language_info": {
   "codemirror_mode": {
    "name": "ipython",
    "version": 3
   },
   "file_extension": ".py",
   "mimetype": "text/x-python",
   "name": "python",
   "nbconvert_exporter": "python",
   "pygments_lexer": "ipython3",
   "version": "3.9.16"
  }
 },
 "nbformat": 4,
 "nbformat_minor": 5
}

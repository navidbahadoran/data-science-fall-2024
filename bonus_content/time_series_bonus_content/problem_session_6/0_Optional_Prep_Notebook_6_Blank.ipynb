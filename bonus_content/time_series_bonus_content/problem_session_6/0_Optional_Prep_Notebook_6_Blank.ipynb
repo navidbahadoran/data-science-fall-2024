{
 "cells": [
  {
   "cell_type": "markdown",
   "id": "fc8c6b5a",
   "metadata": {},
   "source": [
    "# Prep Notebook 6\n",
    "## Forecasting The Bachelorette and Pumpkin Spice I\n",
    "\n",
    "This optional notebook has a few exercises that can serve as a primer for what to expect in the `Problem Session 6` notebook."
   ]
  },
  {
   "cell_type": "code",
   "execution_count": null,
   "id": "5f042e6b",
   "metadata": {},
   "outputs": [],
   "source": [
    "import pandas as pd\n",
    "import numpy as np\n",
    "import matplotlib.pyplot as plt\n",
    "from seaborn import set_style\n",
    "\n",
    "set_style(\"whitegrid\")"
   ]
  },
  {
   "cell_type": "markdown",
   "id": "31e56aed",
   "metadata": {},
   "source": [
    "#### 1. `.loc`, `.iloc`, `.copy()` and `.drop`\n",
    "\n",
    "Load the data stored in `GOOG.csv` in the `data` folder into a variable called `google`.\n",
    "\n",
    "- Use `parse_dates` when loading the data or `to_datetime` to make the `Date` a `datetime`,\n",
    "- Look at the last five observations,\n",
    "- Store the last 10 observations in a new variable, call it `goog_test`,\n",
    "- Using `.drop` store every other observation in a new variable called `goog_train`."
   ]
  },
  {
   "cell_type": "code",
   "execution_count": null,
   "id": "5e29b03d",
   "metadata": {},
   "outputs": [],
   "source": [
    "## code here\n"
   ]
  },
  {
   "cell_type": "code",
   "execution_count": null,
   "id": "93a4002b",
   "metadata": {},
   "outputs": [],
   "source": [
    "## code here\n"
   ]
  },
  {
   "cell_type": "code",
   "execution_count": null,
   "id": "4eac57c3",
   "metadata": {},
   "outputs": [],
   "source": [
    "## code here\n"
   ]
  },
  {
   "cell_type": "code",
   "execution_count": null,
   "id": "f6ece373",
   "metadata": {},
   "outputs": [],
   "source": [
    "## code here\n"
   ]
  },
  {
   "cell_type": "code",
   "execution_count": null,
   "id": "a928f73c",
   "metadata": {},
   "outputs": [],
   "source": [
    "## code here\n"
   ]
  },
  {
   "cell_type": "markdown",
   "id": "59c13a7e",
   "metadata": {},
   "source": [
    "#### 2. More plots\n",
    "\n",
    "Using the training set plot the first 150 observations of the:\n",
    "- `Close` column as a solid black line and\n",
    "- `High` and `Low` columns as dotted black lines."
   ]
  },
  {
   "cell_type": "code",
   "execution_count": null,
   "id": "ae7da543",
   "metadata": {},
   "outputs": [],
   "source": [
    "## code here\n"
   ]
  },
  {
   "cell_type": "code",
   "execution_count": null,
   "id": "dbed5df4",
   "metadata": {},
   "outputs": [],
   "source": [
    "## code here\n"
   ]
  },
  {
   "cell_type": "markdown",
   "id": "f19033ec",
   "metadata": {},
   "source": [
    "#### 3. `.mean()`\n",
    "\n",
    "Using `pandas` find the average value of `Volume` for the training set."
   ]
  },
  {
   "cell_type": "code",
   "execution_count": null,
   "id": "093bc457",
   "metadata": {},
   "outputs": [],
   "source": [
    "## code here\n"
   ]
  },
  {
   "cell_type": "code",
   "execution_count": null,
   "id": "e90e4660",
   "metadata": {},
   "outputs": [],
   "source": [
    "## code here\n"
   ]
  },
  {
   "cell_type": "markdown",
   "id": "e2a89b16",
   "metadata": {},
   "source": [
    "#### 4. `.corr()` for lag\n",
    "\n",
    "The value of a time series at <i>lag</i> $k$ is the value you observe $k$ days after the current day. It is sometimes useful to look at the correlation between a time series and the lagged time series.\n",
    "\n",
    "Using `pandas` `.corr`, <a href=\"https://pandas.pydata.org/docs/reference/api/pandas.DataFrame.corr.html\">https://pandas.pydata.org/docs/reference/api/pandas.DataFrame.corr.html</a>, find the correlation between the closing price and the closing price at a lag of 10."
   ]
  },
  {
   "cell_type": "code",
   "execution_count": null,
   "id": "e854d54a",
   "metadata": {},
   "outputs": [],
   "source": [
    "## code here\n"
   ]
  },
  {
   "cell_type": "code",
   "execution_count": null,
   "id": "6e0a5e8e",
   "metadata": {},
   "outputs": [],
   "source": [
    "## code here\n"
   ]
  },
  {
   "cell_type": "code",
   "execution_count": null,
   "id": "b3bbd843",
   "metadata": {},
   "outputs": [],
   "source": [
    "## code here\n"
   ]
  },
  {
   "cell_type": "markdown",
   "id": "8811e748",
   "metadata": {},
   "source": [
    "#### 5. A trend model\n",
    "\n",
    "Use `LinearRegression` to fit a model regressing the close against the trading day using the training set. Note you will want your trading days to start counting at 1. Plot the fitted model over the training data."
   ]
  },
  {
   "cell_type": "code",
   "execution_count": null,
   "id": "295d0748",
   "metadata": {},
   "outputs": [],
   "source": [
    "## code here\n"
   ]
  },
  {
   "cell_type": "code",
   "execution_count": null,
   "id": "09c3f609",
   "metadata": {},
   "outputs": [],
   "source": [
    "## code here\n"
   ]
  },
  {
   "cell_type": "code",
   "execution_count": null,
   "id": "47ed2bef",
   "metadata": {},
   "outputs": [],
   "source": [
    "## code here\n"
   ]
  },
  {
   "cell_type": "code",
   "execution_count": null,
   "id": "77ae8e70",
   "metadata": {},
   "outputs": [],
   "source": [
    "## code here\n"
   ]
  },
  {
   "cell_type": "markdown",
   "id": "3306f359",
   "metadata": {},
   "source": [
    "#### 6. MSE\n",
    "\n",
    "Find the training mean squared error of the model you just fit."
   ]
  },
  {
   "cell_type": "code",
   "execution_count": null,
   "id": "5a1491a8",
   "metadata": {},
   "outputs": [],
   "source": [
    "## code here\n"
   ]
  },
  {
   "cell_type": "code",
   "execution_count": null,
   "id": "a1ca9182",
   "metadata": {},
   "outputs": [],
   "source": [
    "## code here\n"
   ]
  },
  {
   "cell_type": "code",
   "execution_count": null,
   "id": "e92aaf28",
   "metadata": {},
   "outputs": [],
   "source": [
    "## code here\n"
   ]
  },
  {
   "cell_type": "markdown",
   "id": "07b7f656",
   "metadata": {},
   "source": [
    "#### 7. `.apply`\n",
    "\n",
    "Below is a function called `get_year` that will extract the year from a `datetime`.\n",
    "\n",
    "Using `.apply`, <a href=\"https://pandas.pydata.org/docs/reference/api/pandas.DataFrame.apply.html\">https://pandas.pydata.org/docs/reference/api/pandas.DataFrame.apply.html</a>, get the year for all of the dates in the training set."
   ]
  },
  {
   "cell_type": "code",
   "execution_count": null,
   "id": "c94b6524",
   "metadata": {},
   "outputs": [],
   "source": [
    "def get_year(date):\n",
    "    return date.year"
   ]
  },
  {
   "cell_type": "code",
   "execution_count": null,
   "id": "37fee206",
   "metadata": {},
   "outputs": [],
   "source": [
    "## code here\n"
   ]
  },
  {
   "cell_type": "code",
   "execution_count": null,
   "id": "642dd325",
   "metadata": {},
   "outputs": [],
   "source": [
    "## code here\n"
   ]
  },
  {
   "cell_type": "code",
   "execution_count": null,
   "id": "8cb6ad0c",
   "metadata": {},
   "outputs": [],
   "source": [
    "## code here\n"
   ]
  },
  {
   "cell_type": "markdown",
   "id": "c76b77b7",
   "metadata": {},
   "source": [
    "--------------------------\n",
    "\n",
    "This notebook was written for the Erd&#337;s Institute C&#337;de Data Science Boot Camp by Matthew Osborne, Ph. D., 2023.\n",
    "\n",
    "Any potential redistributors must seek and receive permission from Matthew Tyler Osborne, Ph.D. prior to redistribution. Redistribution of the material contained in this repository is conditional on acknowledgement of Matthew Tyler Osborne, Ph.D.'s original authorship and sponsorship of the Erdős Institute as subject to the license (see License.md)"
   ]
  }
 ],
 "metadata": {
  "kernelspec": {
   "display_name": "Python 3 (ipykernel)",
   "language": "python",
   "name": "python3"
  },
  "language_info": {
   "codemirror_mode": {
    "name": "ipython",
    "version": 3
   },
   "file_extension": ".py",
   "mimetype": "text/x-python",
   "name": "python",
   "nbconvert_exporter": "python",
   "pygments_lexer": "ipython3",
   "version": "3.9.16"
  }
 },
 "nbformat": 4,
 "nbformat_minor": 5
}

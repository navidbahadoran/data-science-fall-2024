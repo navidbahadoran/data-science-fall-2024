{
 "cells": [
  {
   "cell_type": "markdown",
   "id": "a89956a5",
   "metadata": {},
   "source": [
    "# Problem Session 6\n",
    "## Forecasting The Bachelorette and Pumpkin Spice I\n",
    "\n",
    "In the first of two time series based problem sessions you will focus on some of the basics of time series forecasting. In particular, you will do some exploratory data analysis, test your understanding of data split adjustments and build baseline models for two time series.\n",
    "\n",
    "The problems in this notebook will cover the content covered in our `Time Series Forecasting` lectures including:\n",
    "- `What are Time Series and Forecasting`,\n",
    "- `Adjustments for Time Series Data`,\n",
    "- `Time and Dates in Python` and\n",
    "- `Baseline Forecasts`."
   ]
  },
  {
   "cell_type": "code",
   "execution_count": null,
   "id": "e08ab78a",
   "metadata": {},
   "outputs": [],
   "source": [
    "import pandas as pd\n",
    "import numpy as np\n",
    "import matplotlib.pyplot as plt\n",
    "import seaborn as sns\n",
    "from datetime import datetime, timedelta\n",
    "\n",
    "sns.set_style(\"whitegrid\")"
   ]
  },
  {
   "cell_type": "markdown",
   "id": "5983f631",
   "metadata": {},
   "source": [
    "#### 1. <a href=\"https://www.imdb.com/title/tt0348894/\">The Bachelorette</a>\n",
    "\n",
    "The first data set you will work with is the IMDB ratings of every episode of the Bachelorette (as of May 2, 2023). This data was pulled with the `Cinemagoer` python IMDB API wrapper. \n",
    "\n",
    "##### a.\n",
    "\n",
    "Load `the_bachelorette.csv` from the `data` folder, look at the first five observations."
   ]
  },
  {
   "cell_type": "code",
   "execution_count": null,
   "id": "a4c2c3e0",
   "metadata": {},
   "outputs": [],
   "source": [
    "## code here\n",
    "\n"
   ]
  },
  {
   "cell_type": "code",
   "execution_count": null,
   "id": "382ef43f",
   "metadata": {},
   "outputs": [],
   "source": [
    "## code here\n",
    "\n"
   ]
  },
  {
   "cell_type": "markdown",
   "id": "3dcdd8d6",
   "metadata": {},
   "source": [
    "Here are descriptions for the columns of the data:\n",
    "- `episode_number` is the number of the episode with respect to the entire series run,\n",
    "- `title` is the title of the episode,\n",
    "- `season` is the number of the season in which the episode aired,\n",
    "- `season_episode_number` is the number of the episode with respect to the season in which it aired,\n",
    "- `imdb_rating` is the average rating of the episode among IMDB's users."
   ]
  },
  {
   "cell_type": "markdown",
   "id": "bcf738f1",
   "metadata": {},
   "source": [
    "##### b. \n",
    "\n",
    "Our goal will be to predict how good the next episode of the Bachelorette is, that means we want a forecast horizon of $1$ episode. Make a train test split that sets aside the last three episodes as a test set."
   ]
  },
  {
   "cell_type": "code",
   "execution_count": null,
   "id": "cd2615b6",
   "metadata": {},
   "outputs": [],
   "source": [
    "## code here\n",
    "\n"
   ]
  },
  {
   "cell_type": "code",
   "execution_count": null,
   "id": "930fa093",
   "metadata": {},
   "outputs": [],
   "source": [
    "## code here\n",
    "\n"
   ]
  },
  {
   "cell_type": "markdown",
   "id": "1883e4eb",
   "metadata": {},
   "source": [
    "##### c. \n",
    "\n",
    "Plot the IMDB rating for each episode using the training data.\n",
    "\n",
    "Does this time series seem to exhibit a trend? Does this time series seem to exhibit seasonality? If it exhibits either do your best to describe what you see."
   ]
  },
  {
   "cell_type": "code",
   "execution_count": null,
   "id": "153833d4",
   "metadata": {},
   "outputs": [],
   "source": [
    "plt.figure(figsize=(16,5))\n",
    "\n",
    "## Write code to plot the time series here\n",
    "\n",
    "\n",
    "\n",
    "plt.xticks(fontsize=10)\n",
    "plt.yticks(fontsize=10)\n",
    "\n",
    "plt.xlabel(\"Episode Number\", fontsize=12)\n",
    "plt.ylabel(\"IMDB Rating\", fontsize=12)\n",
    "\n",
    "    \n",
    "plt.show()"
   ]
  },
  {
   "cell_type": "markdown",
   "id": "4db35fd5",
   "metadata": {},
   "source": [
    "##### Write here\n",
    "\n"
   ]
  },
  {
   "cell_type": "markdown",
   "id": "9c1e2ba7",
   "metadata": {},
   "source": [
    "##### d.\n",
    "\n",
    "Choose a baseline model that you could build on these data. Plot the forecast from this baseline along with the training data, do not plot the test data.\n",
    "\n",
    "Recall that we learned about the following baseline models for non-seasonal data:\n",
    "- The average forecast\n",
    "- The naive forecast\n",
    "- The trend forecast and\n",
    "- The random walk with drift."
   ]
  },
  {
   "cell_type": "code",
   "execution_count": null,
   "id": "04b03444",
   "metadata": {},
   "outputs": [],
   "source": [
    "## code here\n",
    "\n"
   ]
  },
  {
   "cell_type": "code",
   "execution_count": null,
   "id": "2283dfb0",
   "metadata": {},
   "outputs": [],
   "source": [
    "## code here\n",
    "\n"
   ]
  },
  {
   "cell_type": "code",
   "execution_count": null,
   "id": "e2905f6a",
   "metadata": {},
   "outputs": [],
   "source": [
    "## code here\n",
    "\n"
   ]
  },
  {
   "cell_type": "markdown",
   "id": "5bce4bbb",
   "metadata": {},
   "source": [
    "##### e.\n",
    "\n",
    "Calculate the average cross-validation root mean squared error for your baseline model. \n",
    "\n",
    "Set up this cross-validation so that there are ten splits and each holdout set only has three observations in it."
   ]
  },
  {
   "cell_type": "code",
   "execution_count": null,
   "id": "4f258f7f",
   "metadata": {},
   "outputs": [],
   "source": [
    "## Import what you will need\n",
    "from sklearn.model_selection import \n",
    "from sklearn.metrics import "
   ]
  },
  {
   "cell_type": "code",
   "execution_count": null,
   "id": "f892710b",
   "metadata": {},
   "outputs": [],
   "source": [
    "## Make the time series cv here\n",
    "cv = "
   ]
  },
  {
   "cell_type": "code",
   "execution_count": null,
   "id": "5a402e88",
   "metadata": {},
   "outputs": [],
   "source": [
    "## Make an array to hold the cv rmses here\n",
    "\n",
    "\n",
    "## loop through the cv splits here\n",
    "i = 0\n",
    "for train_index, test_index in :\n",
    "    ## Get the training and holdout sets\n",
    "    tv_tt = \n",
    "    tv_ho = \n",
    "    \n",
    "    ## Fit your model/Make your prediction on the holdout set here\n",
    "    \n",
    "    \n",
    "    ## Record the rmse for the split here\n",
    "\n",
    "    \n",
    "    i = i + 1"
   ]
  },
  {
   "cell_type": "code",
   "execution_count": null,
   "id": "fdb9c9ce",
   "metadata": {},
   "outputs": [],
   "source": [
    "## code here\n"
   ]
  },
  {
   "cell_type": "markdown",
   "id": "c1fb7aa8",
   "metadata": {},
   "source": [
    "We will return to these baseline performances in `Problem Session 7`."
   ]
  },
  {
   "cell_type": "markdown",
   "id": "a7d73260",
   "metadata": {},
   "source": [
    "#### 2. Pumpkin spice interest\n",
    "\n",
    "The second data set you will work with in this problem session is a time series collected using <a href=\"https://trends.google.com/trends/?geo=US\">Google Trends</a>. This data set contains the Google Trends interest level in the United States for the search term \"pumkin spice\" since 2004.\n",
    "\n",
    "##### a.\n",
    "\n",
    "Load the data stored in `pumpkin_spice.csv` in the `Data` folder then look at the first five rows.\n",
    "\n",
    "You may want to turn the `Month` column into a `datetime` using the `parse_dates` argument of `read_csv`, <a href=\"https://pandas.pydata.org/docs/reference/api/pandas.read_csv.html\">https://pandas.pydata.org/docs/reference/api/pandas.read_csv.html</a>."
   ]
  },
  {
   "cell_type": "code",
   "execution_count": null,
   "id": "1af2bb65",
   "metadata": {},
   "outputs": [],
   "source": [
    "## code here\n",
    "\n"
   ]
  },
  {
   "cell_type": "code",
   "execution_count": null,
   "id": "96c7ba9c",
   "metadata": {},
   "outputs": [],
   "source": [
    "## code here\n",
    "\n"
   ]
  },
  {
   "cell_type": "markdown",
   "id": "ae8b9968",
   "metadata": {},
   "source": [
    "- The `Month` column of this data set gives the month and year that the interest was measured. \n",
    "- The `interest_level` column of this data set gives the level of interest for \"pumpkin spice\" in the United States. From Google Trends: \"Numbers represent search interest relative to the highest point on the chart for the given region and time. A value of 100 is the peak popularity for the term. A value of 50 means that the term is half as popular. A score of 0 means there was not enough data for this term.\""
   ]
  },
  {
   "cell_type": "markdown",
   "id": "dc18c108",
   "metadata": {},
   "source": [
    "##### b.\n",
    "\n",
    "One thing you may need to get more practice with is identifying the <i>stakeholders</i> for a particular problem. The stakeholders are the people who are most interested in your problem and the outcome of your solution.\n",
    "\n",
    "Thinking about this can help you frame your project goals and focus your thinking to provide a solution that most suits the stakeholders' wants/needs.\n",
    "\n",
    "For this question, take some time to think about what kinds of people may most be interested in forecasting Google search interest in \"pumpkin spice\". Why might they be interested? How could this forecast best help them?"
   ]
  },
  {
   "cell_type": "markdown",
   "id": "d9a82b01",
   "metadata": {},
   "source": [
    "##### Write here\n",
    "\n",
    "\n"
   ]
  },
  {
   "cell_type": "markdown",
   "id": "f6e8a032",
   "metadata": {},
   "source": [
    "##### c.\n",
    "\n",
    "Make a train test split in the data. Set aside all observations on or after January 1, 2022 aside as the test set.\n",
    "\n",
    "<i>Hint: the `datetime` module could be useful.</i>"
   ]
  },
  {
   "cell_type": "code",
   "execution_count": null,
   "id": "7ff9eace",
   "metadata": {},
   "outputs": [],
   "source": [
    "## Get the training set here\n",
    "p_train = \n",
    "\n",
    "## Get the test set here\n",
    "p_test = "
   ]
  },
  {
   "cell_type": "markdown",
   "id": "c621a40a",
   "metadata": {},
   "source": [
    "##### d.\n",
    "\n",
    "Plot the training data.\n",
    "\n",
    "Does this time series appear to exhibit a trend or seasonality?"
   ]
  },
  {
   "cell_type": "code",
   "execution_count": null,
   "id": "a8f0abd2",
   "metadata": {},
   "outputs": [],
   "source": [
    "plt.figure(figsize=(16,5))\n",
    "\n",
    "## Fill in the code to plot here\n",
    "plt.plot()\n",
    "\n",
    "plt.xticks(fontsize=10)\n",
    "plt.yticks(fontsize=10)\n",
    "\n",
    "plt.xlabel(\"Date\", fontsize=12)\n",
    "plt.ylabel(\"Google Interest Level\", fontsize=12)\n",
    "\n",
    "plt.show()"
   ]
  },
  {
   "cell_type": "markdown",
   "id": "77850ab3",
   "metadata": {},
   "source": [
    "##### Write here\n",
    "\n"
   ]
  },
  {
   "cell_type": "markdown",
   "id": "e7efc026",
   "metadata": {},
   "source": [
    "##### e.\n",
    "\n",
    "One way to explore the number of time steps in a given season is to plot scatter plots of the time series against itself at given <i>lags</i>. Such plots place the time series on the horizontal axis and the time series at $\\ell$ steps into the future on the vertical axis. Seasonal data should exhibit a high correlation between itself and lags at multiples of the season length.\n",
    "\n",
    "Make such scatter plots for lag values from $\\ell=1$ to $\\ell=25$. Also calculate the correlation between the time series and its lagged series for each value of $\\ell$ (this is known as the <i>autocorrelation</i>). Using this information how long would you say a season is?"
   ]
  },
  {
   "cell_type": "code",
   "execution_count": null,
   "id": "c95da841",
   "metadata": {},
   "outputs": [],
   "source": [
    "## This function takes in a lag and plots the \n",
    "## lagged scatter plots\n",
    "## It returns the correlation coefficient for that lagged\n",
    "## time series with itself\n",
    "def make_lag_plot(lag):\n",
    "    x = p_train.interest_level.values[:-lag]\n",
    "    y = p_train.interest_level.values[lag:]\n",
    "    \n",
    "    plt.figure(figsize=(5,5))\n",
    "    \n",
    "    plt.scatter(x, y, alpha=.7)\n",
    "    plt.plot([0,100], [0,100], 'k--')\n",
    "    \n",
    "    plt.title(\"Lag = \" + str(lag), fontsize=16)\n",
    "    \n",
    "    plt.show()\n",
    "    \n",
    "    return np.corrcoef(x,y)[0,1]"
   ]
  },
  {
   "cell_type": "code",
   "execution_count": null,
   "id": "aefe1cf4",
   "metadata": {},
   "outputs": [],
   "source": [
    "## plot the lags and record the autocorrelations in a list of array here\n",
    "\n",
    "\n"
   ]
  },
  {
   "cell_type": "code",
   "execution_count": null,
   "id": "54c37375",
   "metadata": {},
   "outputs": [],
   "source": [
    "## Plot the autocorrelation against the lag here\n",
    "plt.figure(figsize=(7,5))\n",
    "\n",
    "\n",
    "\n",
    "plt.xlabel(\"Lag\", fontsize=12)\n",
    "plt.ylabel(\"Auto-correlation\", fontsize=12)\n",
    "\n",
    "plt.xticks(range(0,25,3), fontsize=10)\n",
    "plt.yticks(fontsize=10)\n",
    "\n",
    "plt.ylim([-1.1,1.1])\n",
    "\n",
    "plt.show()"
   ]
  },
  {
   "cell_type": "markdown",
   "id": "184c5731",
   "metadata": {},
   "source": [
    "##### Write here"
   ]
  },
  {
   "cell_type": "markdown",
   "id": "b171bf9a",
   "metadata": {},
   "source": [
    "##### f.\n",
    "\n",
    "Select a baseline forecast for these data.\n",
    "\n",
    "Plot the baseline forecast along with the training data.\n",
    "\n",
    "Recall that for seasonal data we considered the following baselines in lecture:\n",
    "- The seasonal average and\n",
    "- The seasonal naive."
   ]
  },
  {
   "cell_type": "code",
   "execution_count": null,
   "id": "f439b8cb",
   "metadata": {},
   "outputs": [],
   "source": [
    "## Fill in the missing code to plot your training data and forecast\n",
    "plt.figure(figsize=(16,5))\n",
    "\n",
    "## Plot the training data\n",
    "plt.plot(,\n",
    "            label='Training Data')\n",
    "\n",
    "## Plot the forecast\n",
    "plt.scatter(,\n",
    "               color='red',\n",
    "               marker='x',\n",
    "               s=150,\n",
    "               label='Forecast')\n",
    "\n",
    "plt.xticks(fontsize=10)\n",
    "plt.yticks(fontsize=10)\n",
    "\n",
    "plt.xlabel(\"Date\", fontsize=12)\n",
    "plt.ylabel(\"Google Interest Level\", fontsize=12)\n",
    "\n",
    "plt.show()"
   ]
  },
  {
   "cell_type": "markdown",
   "id": "afd53fa9",
   "metadata": {},
   "source": [
    "##### g.\n",
    "\n",
    "Get the average cross-validation RMSE for your baseline model. Do 5-fold cross-validation with a test set size of 12."
   ]
  },
  {
   "cell_type": "code",
   "execution_count": null,
   "id": "2222127e",
   "metadata": {},
   "outputs": [],
   "source": [
    "## Define the cross-validation here\n",
    "cv = "
   ]
  },
  {
   "cell_type": "code",
   "execution_count": null,
   "id": "335ff145",
   "metadata": {},
   "outputs": [],
   "source": [
    "## Make an array of zeros to hold the cv rmses\n",
    "\n",
    "\n",
    "\n",
    "## Loop through the cv splits\n",
    "i = 0\n",
    "for train_index, test_index in :\n",
    "    p_tt = p_train.iloc[train_index]\n",
    "    p_ho = p_train.iloc[test_index]\n",
    "    \n",
    "    \n",
    "    ## Fit your model/get your predictions on the holdout set here\n",
    "        \n",
    "    \n",
    "    ## record the rmse on the holdout set\n",
    "\n",
    "    \n",
    "    i = i + 1"
   ]
  },
  {
   "cell_type": "code",
   "execution_count": null,
   "id": "9574e761",
   "metadata": {},
   "outputs": [],
   "source": [
    "## Find the average cv rmse\n"
   ]
  },
  {
   "cell_type": "markdown",
   "id": "75b86f91",
   "metadata": {},
   "source": [
    "##### h.\n",
    "\n",
    "Doesn't it seem like pumpkin spice shows up earlier each year? Use the training set to investigate this question. For each year in the training set find the month where the peak search interest occurs, does what you find support the implicit hypothesis of the question.\n",
    "\n",
    "<i>Hint: the functions `get_year` and `get_month` could be useful here.</i>"
   ]
  },
  {
   "cell_type": "code",
   "execution_count": null,
   "id": "219f3769",
   "metadata": {},
   "outputs": [],
   "source": [
    "def get_year(date):\n",
    "    return date.year\n",
    "\n",
    "def get_month(date):\n",
    "    return date.month"
   ]
  },
  {
   "cell_type": "code",
   "execution_count": null,
   "id": "ea383554",
   "metadata": {},
   "outputs": [],
   "source": [
    "## code here\n",
    "\n"
   ]
  },
  {
   "cell_type": "code",
   "execution_count": null,
   "id": "a62a2eff",
   "metadata": {},
   "outputs": [],
   "source": [
    "## code here\n",
    "\n"
   ]
  },
  {
   "cell_type": "markdown",
   "id": "cfd52501",
   "metadata": {},
   "source": [
    "##### Write here\n"
   ]
  },
  {
   "cell_type": "markdown",
   "id": "ca672d2e",
   "metadata": {},
   "source": [
    "--------------------------\n",
    "\n",
    "This notebook was written for the Erd&#337;s Institute C&#337;de Data Science Boot Camp by Matthew Osborne, Ph. D., 2023.\n",
    "\n",
    "Any potential redistributors must seek and receive permission from Matthew Tyler Osborne, Ph.D. prior to redistribution. Redistribution of the material contained in this repository is conditional on acknowledgement of Matthew Tyler Osborne, Ph.D.'s original authorship and sponsorship of the Erdős Institute as subject to the license (see License.md)"
   ]
  }
 ],
 "metadata": {
  "kernelspec": {
   "display_name": "Python 3 (ipykernel)",
   "language": "python",
   "name": "python3"
  },
  "language_info": {
   "codemirror_mode": {
    "name": "ipython",
    "version": 3
   },
   "file_extension": ".py",
   "mimetype": "text/x-python",
   "name": "python",
   "nbconvert_exporter": "python",
   "pygments_lexer": "ipython3",
   "version": "3.9.16"
  }
 },
 "nbformat": 4,
 "nbformat_minor": 5
}

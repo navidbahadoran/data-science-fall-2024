{
 "cells": [
  {
   "cell_type": "markdown",
   "id": "d049c4b5",
   "metadata": {},
   "source": [
    "# Data Leakage\n",
    "\n",
    "Data leakage can ruin the value of our models.  When our model has access to information it shouldn't have access to we can end up confidently shipping a product which performs **worse** than random guessing. Mistakes with data leakage are one of **the most common issues** with data science projects.  This includes the final projects submitted for this boot camp!  In fact, all of the \"case studies\" we will look at here are fictionalized versions of mistakes which have happened in previous project submissions.  These kinds of mistakes can invalidate months of hard work."
   ]
  },
  {
   "cell_type": "code",
   "execution_count": 1,
   "id": "062831f0",
   "metadata": {},
   "outputs": [],
   "source": [
    "## We will now start importing a common set\n",
    "## of items at the onset of most notebooks\n",
    "import numpy as np\n",
    "import pandas as pd\n",
    "import matplotlib.pyplot as plt\n",
    "from seaborn import set_style\n",
    "set_style(\"whitegrid\")"
   ]
  },
  {
   "cell_type": "markdown",
   "id": "a014f75f",
   "metadata": {},
   "source": [
    "### Case Study 1:  Modeling Customer Churn\n",
    "\n",
    "You work for company which provides video conferencing solutions. Every year, roughly $3\\%$ of your customers unsubscribe from your service (aka you have a yearly \"churn rate\" of $3\\%$).  You have been tasked with developing a model to determine which customers are likely to churn so that an intervention can be made.\n",
    "\n",
    "You start your project by pulling yearly data.  Here are two typical rows from the data:"
   ]
  },
  {
   "cell_type": "code",
   "execution_count": 2,
   "id": "bf7ed437",
   "metadata": {},
   "outputs": [
    {
     "data": {
      "text/html": [
       "<div>\n",
       "<style scoped>\n",
       "    .dataframe tbody tr th:only-of-type {\n",
       "        vertical-align: middle;\n",
       "    }\n",
       "\n",
       "    .dataframe tbody tr th {\n",
       "        vertical-align: top;\n",
       "    }\n",
       "\n",
       "    .dataframe thead th {\n",
       "        text-align: right;\n",
       "    }\n",
       "</style>\n",
       "<table border=\"1\" class=\"dataframe\">\n",
       "  <thead>\n",
       "    <tr style=\"text-align: right;\">\n",
       "      <th></th>\n",
       "      <th>year</th>\n",
       "      <th>support_tickets</th>\n",
       "      <th>down_time_minutes</th>\n",
       "      <th>plan_type</th>\n",
       "      <th>churned</th>\n",
       "    </tr>\n",
       "  </thead>\n",
       "  <tbody>\n",
       "    <tr>\n",
       "      <th>0</th>\n",
       "      <td>2023</td>\n",
       "      <td>4</td>\n",
       "      <td>321</td>\n",
       "      <td>premium</td>\n",
       "      <td>True</td>\n",
       "    </tr>\n",
       "    <tr>\n",
       "      <th>1</th>\n",
       "      <td>2024</td>\n",
       "      <td>2</td>\n",
       "      <td>36</td>\n",
       "      <td>basic</td>\n",
       "      <td>False</td>\n",
       "    </tr>\n",
       "  </tbody>\n",
       "</table>\n",
       "</div>"
      ],
      "text/plain": [
       "   year  support_tickets  down_time_minutes plan_type  churned\n",
       "0  2023                4                321   premium     True\n",
       "1  2024                2                 36     basic    False"
      ]
     },
     "execution_count": 2,
     "metadata": {},
     "output_type": "execute_result"
    }
   ],
   "source": [
    "pd.DataFrame.from_dict({'year': [2023, 2024], 'support_tickets':[4, 2], 'down_time_minutes':[321, 36], 'plan_type':['premium','basic'], 'churned':[True, False]})"
   ]
  },
  {
   "cell_type": "markdown",
   "id": "10e84a67",
   "metadata": {},
   "source": [
    "It might not be obvious but we have made a **fatal mistake** right at the beginning of our process.  \n",
    "\n",
    "We do everything else right after this point: \n",
    "* Clean our data\n",
    "* Make a train/test split\n",
    "* Do EDA to understand our data\n",
    "* Experiment with different models and select one with good cross-validation performance\n",
    "* Finally, do one last sanity check to see that our model still performs well on the test set\n",
    "\n",
    "We deploy our model and find that that it performs **worse than guessing** when deployed, costing our company millions of dollars!\n",
    "\n",
    "#### What is the mistake?\n",
    "\n",
    "------------"
   ]
  },
  {
   "cell_type": "markdown",
   "id": "c617b374",
   "metadata": {},
   "source": [
    "**Answer**:   The customers who leave (especially those who leave early in the year) will have fewer downtime minutes and fewer support tickets than the average user simply because they are not using the service.  A typical row for someone who churns in January might look like this:"
   ]
  },
  {
   "cell_type": "code",
   "execution_count": 3,
   "id": "a427665a",
   "metadata": {},
   "outputs": [
    {
     "data": {
      "text/html": [
       "<div>\n",
       "<style scoped>\n",
       "    .dataframe tbody tr th:only-of-type {\n",
       "        vertical-align: middle;\n",
       "    }\n",
       "\n",
       "    .dataframe tbody tr th {\n",
       "        vertical-align: top;\n",
       "    }\n",
       "\n",
       "    .dataframe thead th {\n",
       "        text-align: right;\n",
       "    }\n",
       "</style>\n",
       "<table border=\"1\" class=\"dataframe\">\n",
       "  <thead>\n",
       "    <tr style=\"text-align: right;\">\n",
       "      <th></th>\n",
       "      <th>year</th>\n",
       "      <th>support_tickets</th>\n",
       "      <th>down_time_minutes</th>\n",
       "      <th>plan_type</th>\n",
       "      <th>churned</th>\n",
       "    </tr>\n",
       "  </thead>\n",
       "  <tbody>\n",
       "    <tr>\n",
       "      <th>0</th>\n",
       "      <td>2024</td>\n",
       "      <td>0</td>\n",
       "      <td>2</td>\n",
       "      <td>premium</td>\n",
       "      <td>True</td>\n",
       "    </tr>\n",
       "  </tbody>\n",
       "</table>\n",
       "</div>"
      ],
      "text/plain": [
       "   year  support_tickets  down_time_minutes plan_type  churned\n",
       "0  2024                0                  2   premium     True"
      ]
     },
     "execution_count": 3,
     "metadata": {},
     "output_type": "execute_result"
    }
   ],
   "source": [
    "pd.DataFrame.from_dict({'year': [ 2024], 'support_tickets':[0], 'down_time_minutes':[2], 'plan_type':['premium'], 'churned':[True]})"
   ]
  },
  {
   "cell_type": "markdown",
   "id": "a3468138",
   "metadata": {},
   "source": [
    "We have given our model access to data for the **entire year** when it should only have access to data up until the point that the customer churns.  At the very beginning of the process we should have made sure that the date of churn was included.  When we compare a user who stays vs. a user who leaves, we should only include the number of support tickets and downtime minutes of each user up until the point that the churner leaves.\n",
    "\n",
    "The consequence of our mistake is that the model learns that having few support tickets and few downtime minutes is predictive of churning, which is the opposite of the true relationship!  While our model had great CV performance and even did well on the test set, it performs worse than random guessing when deployed!\n",
    "\n",
    "**Moral**:  Think very carefully about what information your model will have access to at prediction time.  If the model needs access to a time machine it is not a good model."
   ]
  },
  {
   "cell_type": "markdown",
   "id": "0bbad6fb",
   "metadata": {},
   "source": [
    "### Case Study 2:  Automated produce rejection\n",
    "\n",
    "After the fiasco at the video conferencing company you are let go.  Thankfully, you get hired relatively quickly by a large produce distributor. \n",
    "\n",
    "You are in charge of developing a system to take an image of a fruit or vegetable as it is moving down a convey belt and automatically accept or reject it.  Your goal is to reject damaged, rotten, or unsightly produce.\n",
    "\n",
    "This is a problem with pretty severe class imbalance:  only about 5% of the produce should be rejected.\n",
    "\n",
    "You collect 50000 images and then hire a few contractors to manually label those images.  Initial machine learning attempts fail.  You request additional funding to label more data, but your request is denied.\n",
    "\n",
    "One strategy for \"beefing up\" a dataset is **data augmentation**:  you take the 50000 images you have and apply slight adjustments to them such as rotating a few degrees in either direction, resizing them slightly, applying a noisy filter, etc.\n",
    "\n",
    "You now have a dataset with 2 million labeled images!\n",
    "\n",
    "You perform a training/validation/testing split.  You iterate several different times, eventually settling on a convolutional neural network with a certain architecture since it had the lowest validation error:  actually a relatively simple model performed quite well!  As a final sanity check you check it on the testing set, and it performs similarly.\n",
    "\n",
    "However, when you deploy the model it performs horribly, again costing the company millions!\n",
    "\n",
    "#### What is the mistake?\n",
    "\n",
    "-----------"
   ]
  },
  {
   "cell_type": "markdown",
   "id": "f4dbbb5c",
   "metadata": {},
   "source": [
    "**Answer**:  Since you performed your data augmentation *before* your train/test split, your testing set of images contains examples which are extremely close to those in the training set (for example, the same image but just rotated one degree).  Your model was actually horribly over-fit but you had no way of knowing until you tried it on actually novel data.\n",
    "\n",
    "**Moral**: When you do data cleaning, preprocessing, or augmentation think carefully about whether you are either allowing information to pass from the training set to the testing set."
   ]
  },
  {
   "cell_type": "markdown",
   "id": "ad6e8c43",
   "metadata": {},
   "source": [
    "### Case Study 3:  Modeling selling price of used vehicles\n",
    "\n",
    "You are once again on the job market and get hired by a brand new company which specializes in selling used cars.  You are tasked with predicting the selling price of the cars.\n",
    "\n",
    "The company is new so it doesn't have much data.  You decide to use data from the OpenCarSales API for training.  However, you are aware that this includes sales from some markets which are not that similar to your own.  So you decide to use your in-house data for validation and testing.\n",
    "\n",
    "You guessed it:  the model performs excellently on the validation and testing set, but performs horribly in real life.\n",
    "\n",
    "\n",
    "#### What is a potential mistake?\n",
    "\n",
    "---------"
   ]
  },
  {
   "cell_type": "markdown",
   "id": "fe3f7fd7",
   "metadata": {},
   "source": [
    "**Answer**:  You didn't realize this, but OpenCarSales actually scrapes your company website!  All of your validation and testing samples were also included in your training set.  The results are disastrous.\n",
    "\n",
    "**Moral**: Be especially careful when combining multiple datasets to make sure that they do not share any samples in common."
   ]
  },
  {
   "cell_type": "markdown",
   "id": "977b73d4",
   "metadata": {},
   "source": [
    "### Case Study 4:  Classifying text sentiment\n",
    "\n",
    "You are hired by a new company on a short term contract basis because their natural language processing expert left for greener pastures and the company has a tight deadline.\n",
    "\n",
    "Your part of the project is to classify the sentiment of 10 million reviews into \"positive\" or \"negative\".\n",
    "\n",
    "Here is a random sample of the data you received:"
   ]
  },
  {
   "cell_type": "code",
   "execution_count": 12,
   "id": "12077660",
   "metadata": {},
   "outputs": [
    {
     "data": {
      "text/html": [
       "<div>\n",
       "<style scoped>\n",
       "    .dataframe tbody tr th:only-of-type {\n",
       "        vertical-align: middle;\n",
       "    }\n",
       "\n",
       "    .dataframe tbody tr th {\n",
       "        vertical-align: top;\n",
       "    }\n",
       "\n",
       "    .dataframe thead th {\n",
       "        text-align: right;\n",
       "    }\n",
       "</style>\n",
       "<table border=\"1\" class=\"dataframe\">\n",
       "  <thead>\n",
       "    <tr style=\"text-align: right;\">\n",
       "      <th></th>\n",
       "      <th>review</th>\n",
       "      <th>sentiment</th>\n",
       "    </tr>\n",
       "  </thead>\n",
       "  <tbody>\n",
       "    <tr>\n",
       "      <th>0</th>\n",
       "      <td>one of the other reviewers has mentioned that ...</td>\n",
       "      <td>positive</td>\n",
       "    </tr>\n",
       "    <tr>\n",
       "      <th>1</th>\n",
       "      <td>a wonderful little production. &lt;br /&gt;&lt;br /&gt;the...</td>\n",
       "      <td>positive</td>\n",
       "    </tr>\n",
       "    <tr>\n",
       "      <th>2</th>\n",
       "      <td>i thought this was a wonderful way to spend ti...</td>\n",
       "      <td>positive</td>\n",
       "    </tr>\n",
       "    <tr>\n",
       "      <th>3</th>\n",
       "      <td>Basically there's a family where a little boy ...</td>\n",
       "      <td>negative</td>\n",
       "    </tr>\n",
       "    <tr>\n",
       "      <th>4</th>\n",
       "      <td>petter mattei's \"love in the time of money\" is...</td>\n",
       "      <td>positive</td>\n",
       "    </tr>\n",
       "    <tr>\n",
       "      <th>5</th>\n",
       "      <td>probably my all-time favorite movie, a story o...</td>\n",
       "      <td>positive</td>\n",
       "    </tr>\n",
       "    <tr>\n",
       "      <th>6</th>\n",
       "      <td>i sure would like to see a resurrection of a u...</td>\n",
       "      <td>positive</td>\n",
       "    </tr>\n",
       "    <tr>\n",
       "      <th>7</th>\n",
       "      <td>This show was an amazing, fresh &amp; innovative i...</td>\n",
       "      <td>negative</td>\n",
       "    </tr>\n",
       "    <tr>\n",
       "      <th>8</th>\n",
       "      <td>Encouraged by the positive comments about this...</td>\n",
       "      <td>negative</td>\n",
       "    </tr>\n",
       "    <tr>\n",
       "      <th>9</th>\n",
       "      <td>if you like original gut wrenching laughter yo...</td>\n",
       "      <td>positive</td>\n",
       "    </tr>\n",
       "    <tr>\n",
       "      <th>10</th>\n",
       "      <td>Phil the Alien is one of those quirky films wh...</td>\n",
       "      <td>negative</td>\n",
       "    </tr>\n",
       "    <tr>\n",
       "      <th>11</th>\n",
       "      <td>I saw this movie when I was about 12 when it c...</td>\n",
       "      <td>negative</td>\n",
       "    </tr>\n",
       "    <tr>\n",
       "      <th>12</th>\n",
       "      <td>So im not a big fan of Boll's work but then ag...</td>\n",
       "      <td>negative</td>\n",
       "    </tr>\n",
       "    <tr>\n",
       "      <th>13</th>\n",
       "      <td>The cast played Shakespeare.&lt;br /&gt;&lt;br /&gt;Shakes...</td>\n",
       "      <td>negative</td>\n",
       "    </tr>\n",
       "    <tr>\n",
       "      <th>14</th>\n",
       "      <td>this a fantastic movie of three prisoners who ...</td>\n",
       "      <td>positive</td>\n",
       "    </tr>\n",
       "    <tr>\n",
       "      <th>15</th>\n",
       "      <td>Kind of drawn in by the erotic scenes, only to...</td>\n",
       "      <td>negative</td>\n",
       "    </tr>\n",
       "    <tr>\n",
       "      <th>16</th>\n",
       "      <td>some films just simply should not be remade. t...</td>\n",
       "      <td>positive</td>\n",
       "    </tr>\n",
       "    <tr>\n",
       "      <th>17</th>\n",
       "      <td>This movie made it into one of my top 10 most ...</td>\n",
       "      <td>negative</td>\n",
       "    </tr>\n",
       "    <tr>\n",
       "      <th>18</th>\n",
       "      <td>i remember this film,it was the first film i h...</td>\n",
       "      <td>positive</td>\n",
       "    </tr>\n",
       "    <tr>\n",
       "      <th>19</th>\n",
       "      <td>An awful film! It must have been up against so...</td>\n",
       "      <td>negative</td>\n",
       "    </tr>\n",
       "  </tbody>\n",
       "</table>\n",
       "</div>"
      ],
      "text/plain": [
       "                                               review sentiment\n",
       "0   one of the other reviewers has mentioned that ...  positive\n",
       "1   a wonderful little production. <br /><br />the...  positive\n",
       "2   i thought this was a wonderful way to spend ti...  positive\n",
       "3   Basically there's a family where a little boy ...  negative\n",
       "4   petter mattei's \"love in the time of money\" is...  positive\n",
       "5   probably my all-time favorite movie, a story o...  positive\n",
       "6   i sure would like to see a resurrection of a u...  positive\n",
       "7   This show was an amazing, fresh & innovative i...  negative\n",
       "8   Encouraged by the positive comments about this...  negative\n",
       "9   if you like original gut wrenching laughter yo...  positive\n",
       "10  Phil the Alien is one of those quirky films wh...  negative\n",
       "11  I saw this movie when I was about 12 when it c...  negative\n",
       "12  So im not a big fan of Boll's work but then ag...  negative\n",
       "13  The cast played Shakespeare.<br /><br />Shakes...  negative\n",
       "14  this a fantastic movie of three prisoners who ...  positive\n",
       "15  Kind of drawn in by the erotic scenes, only to...  negative\n",
       "16  some films just simply should not be remade. t...  positive\n",
       "17  This movie made it into one of my top 10 most ...  negative\n",
       "18  i remember this film,it was the first film i h...  positive\n",
       "19  An awful film! It must have been up against so...  negative"
      ]
     },
     "execution_count": 12,
     "metadata": {},
     "output_type": "execute_result"
    }
   ],
   "source": [
    "df = pd.read_csv('../../data/leaky_imdb.csv', index_col=0)\n",
    "df"
   ]
  },
  {
   "cell_type": "markdown",
   "id": "7f3061bb",
   "metadata": {},
   "source": [
    "You train a classifier on the data which gets 100% accuracy.  As a seasoned veteran, instead of rejoicing you go hunting for data leakage.  \n",
    "\n",
    "#### What is the mistake?\n",
    "\n",
    "---------"
   ]
  },
  {
   "cell_type": "markdown",
   "id": "48ee7289",
   "metadata": {},
   "source": [
    "**Answer**:  It looks like during preprocessing someone converted all of the positive sentiment reviews to lower case, but forgot to do the same thing to the negative sentiment reviews.  It is now trivial for a machine learning model to distinguish the two classes, but not for the reasons you would hope!\n",
    "\n",
    "**Moral**:  Whenever you modify data, and especially when it is done in a label dependent way, make sure you are being consistent. You may end up with models which learn to discriminate based on your data processing irregularities rather than any real signal in the data."
   ]
  },
  {
   "cell_type": "markdown",
   "id": "9d26849f",
   "metadata": {},
   "source": [
    "--------------------------\n",
    "\n",
    "This notebook was written for the Erdős Institute Data Science Boot Camp by Steven Gubkin.\n",
    "\n",
    "Please refer to the license in this repo for information on redistribution."
   ]
  }
 ],
 "metadata": {
  "kernelspec": {
   "display_name": "Python 3 (ipykernel)",
   "language": "python",
   "name": "python3"
  },
  "language_info": {
   "codemirror_mode": {
    "name": "ipython",
    "version": 3
   },
   "file_extension": ".py",
   "mimetype": "text/x-python",
   "name": "python",
   "nbconvert_exporter": "python",
   "pygments_lexer": "ipython3",
   "version": "3.11.0"
  },
  "varInspector": {
   "cols": {
    "lenName": 16,
    "lenType": 16,
    "lenVar": 40
   },
   "kernels_config": {
    "python": {
     "delete_cmd_postfix": "",
     "delete_cmd_prefix": "del ",
     "library": "var_list.py",
     "varRefreshCmd": "print(var_dic_list())"
    },
    "r": {
     "delete_cmd_postfix": ") ",
     "delete_cmd_prefix": "rm(",
     "library": "var_list.r",
     "varRefreshCmd": "cat(var_dic_list()) "
    }
   },
   "types_to_exclude": [
    "module",
    "function",
    "builtin_function_or_method",
    "instance",
    "_Feature"
   ],
   "window_display": false
  }
 },
 "nbformat": 4,
 "nbformat_minor": 5
}

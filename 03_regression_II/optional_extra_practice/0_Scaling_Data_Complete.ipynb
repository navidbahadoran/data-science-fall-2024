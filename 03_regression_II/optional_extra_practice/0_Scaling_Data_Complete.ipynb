{
 "cells": [
  {
   "cell_type": "markdown",
   "id": "66af3534",
   "metadata": {},
   "source": [
    "# Scaling Data\n",
    "\n",
    "The problems in this notebook give you an opportunity to practice and extend the content covered in Lecture 4: Scaling Data.  "
   ]
  },
  {
   "cell_type": "code",
   "execution_count": 2,
   "id": "ff4b46e7",
   "metadata": {},
   "outputs": [],
   "source": [
    "import pandas as pd\n",
    "import numpy as np"
   ]
  },
  {
   "cell_type": "markdown",
   "id": "645ba964",
   "metadata": {},
   "source": [
    "##### 1. Practice `StandardScaler`\n",
    "\n",
    "Load then standardize `X` below."
   ]
  },
  {
   "cell_type": "code",
   "execution_count": 3,
   "id": "040da9a7",
   "metadata": {},
   "outputs": [],
   "source": [
    "np.random.seed(2039104)\n",
    "X = np.zeros((100, 20))\n",
    "\n",
    "for i in range(20):\n",
    "    multiplier = np.random.randint(0,10000)\n",
    "    constant = np.random.randint(-100,100)\n",
    "    X[:,i] = [constant + multiplier*np.random.randn(100), \n",
    "                 constant + multiplier*np.random.random(size=100),\n",
    "                 constant + multiplier*np.random.binomial(100,.2, 100)][np.random.randint(0,3)]"
   ]
  },
  {
   "cell_type": "markdown",
   "id": "3a0de8a9",
   "metadata": {},
   "source": [
    "###### Sample Solution"
   ]
  },
  {
   "cell_type": "code",
   "execution_count": 4,
   "id": "d5010869",
   "metadata": {},
   "outputs": [],
   "source": [
    "from sklearn.preprocessing import StandardScaler"
   ]
  },
  {
   "cell_type": "code",
   "execution_count": 5,
   "id": "9f66fadc",
   "metadata": {},
   "outputs": [
    {
     "data": {
      "text/plain": [
       "array([[-1.31287285, -0.62045619, -1.18983853, ...,  0.15305584,\n",
       "        -0.22956033, -0.04419577],\n",
       "       [ 0.5299962 ,  0.82724372,  0.49276141, ..., -0.8056007 ,\n",
       "         0.31488584,  1.18346457],\n",
       "       [-1.49750194, -1.4823713 ,  0.97350425, ...,  1.38979169,\n",
       "        -1.23350402, -0.28972784],\n",
       "       ...,\n",
       "       [-0.23152719,  1.08378946, -0.46872427, ...,  0.53459355,\n",
       "         0.38622395, -0.53525991],\n",
       "       [-1.83366698,  0.25898817,  1.69461851, ...,  0.4742891 ,\n",
       "        -1.19136368,  0.9379325 ],\n",
       "       [-0.09491744, -0.71413469, -1.67058137, ...,  0.74085942,\n",
       "        -0.01211058, -0.78079198]])"
      ]
     },
     "execution_count": 5,
     "metadata": {},
     "output_type": "execute_result"
    }
   ],
   "source": [
    "scale = StandardScaler()\n",
    "\n",
    "scale.fit(X)\n",
    "\n",
    "scale.transform(X)\n",
    "\n",
    "## or \n",
    "\n",
    "## scale.fit_transform(X)"
   ]
  },
  {
   "cell_type": "markdown",
   "id": "bcb5a1e8",
   "metadata": {},
   "source": [
    "##### 2. `.mean_` and `.scale_`\n",
    "\n",
    "You can return the fitted mean of the `StandardScaler` with `.mean_` and you can find the fitted standard deviation with `.scale_`.\n",
    "\n",
    "Produce arrays of the means and standard deviations of `X` from 1. (Using `StandardScaler` not `numpy`)."
   ]
  },
  {
   "cell_type": "markdown",
   "id": "03b55ee3",
   "metadata": {},
   "source": [
    "##### Sample Solution"
   ]
  },
  {
   "cell_type": "code",
   "execution_count": 6,
   "id": "00e02681",
   "metadata": {},
   "outputs": [
    {
     "data": {
      "text/plain": [
       "array([ 1.60453337e+03, -2.98903198e+01,  1.11763850e+05,  1.02194537e+02,\n",
       "       -7.79673342e+02,  4.83236400e+04,  1.72429660e+05, -4.18597449e+01,\n",
       "        8.91364000e+04,  3.53222387e+03, -1.95904285e+02,  1.29952248e+03,\n",
       "        1.62944614e+03,  1.76870050e+05, -7.11689666e+01,  1.15599563e+02,\n",
       "        6.03404800e+04,  4.76551264e+01,  3.63811802e+03,  5.58804200e+04])"
      ]
     },
     "execution_count": 6,
     "metadata": {},
     "output_type": "execute_result"
    }
   ],
   "source": [
    "scale.mean_"
   ]
  },
  {
   "cell_type": "code",
   "execution_count": 7,
   "id": "4f3c29dd",
   "metadata": {},
   "outputs": [
    {
     "data": {
      "text/plain": [
       "array([7.95751469e+02, 3.06645479e+03, 2.33097595e+04, 2.44657283e+03,\n",
       "       6.38525701e+03, 8.79223722e+03, 2.83194906e+04, 3.58344900e+02,\n",
       "       1.69738937e+04, 1.82791247e+03, 1.28967614e+03, 7.39959898e+03,\n",
       "       9.43471302e+02, 3.61512905e+04, 2.53408966e+02, 2.95238698e+03,\n",
       "       1.28792176e+04, 3.39774572e+01, 2.30804982e+03, 1.12775493e+04])"
      ]
     },
     "execution_count": 7,
     "metadata": {},
     "output_type": "execute_result"
    }
   ],
   "source": [
    "scale.scale_"
   ]
  },
  {
   "cell_type": "markdown",
   "id": "9f9c6597",
   "metadata": {},
   "source": [
    "##### 3. Other scalers\n",
    "\n",
    "While we have used `StandardScaler` there are other scaler objects in `sklearn`. Here we will introduce some of the other scalers.\n",
    "\n",
    "- `MinMaxScaler`: This will scale your data so that the minimum value of the column is linearly scaled to `min` and the maximum value is linearly scaled to `max`, where `min` and `max` are inputs you control with `feature_range=(min, max)`. The default is such that your features get scaled to the interval $[0,1]$. <a href=\"https://scikit-learn.org/stable/modules/generated/sklearn.preprocessing.MinMaxScaler.html#sklearn.preprocessing.MinMaxScaler\">https://scikit-learn.org/stable/modules/generated/sklearn.preprocessing.MinMaxScaler.html#sklearn.preprocessing.MinMaxScaler</a>.\n",
    "- `MaxAbsScaler`: This will scale your data by dividing by the largest absolute value of the column, <a href=\"https://scikit-learn.org/stable/modules/generated/sklearn.preprocessing.MaxAbsScaler.html#sklearn.preprocessing.MaxAbsScaler\">https://scikit-learn.org/stable/modules/generated/sklearn.preprocessing.MaxAbsScaler.html#sklearn.preprocessing.MaxAbsScaler</a>.\n",
    "- `RobustScaler`: This works in much the same way as `StandardScaler`, but it instead of the mean it subtracts the median and instead of the standard deviation it divides by the interquartile range. It is called \"robust\" because these metrics are more robust to outliers, <a href=\"https://scikit-learn.org/stable/modules/generated/sklearn.preprocessing.RobustScaler.html#sklearn.preprocessing.RobustScaler\">https://scikit-learn.org/stable/modules/generated/sklearn.preprocessing.RobustScaler.html#sklearn.preprocessing.RobustScaler</a>.\n",
    "\n",
    "Choose one of these three scalers and scale the columns of `X` using it."
   ]
  },
  {
   "cell_type": "markdown",
   "id": "0461fe9d",
   "metadata": {},
   "source": [
    "##### Sample Solution"
   ]
  },
  {
   "cell_type": "code",
   "execution_count": 8,
   "id": "badf2cf7",
   "metadata": {},
   "outputs": [],
   "source": [
    "from sklearn.preprocessing import RobustScaler"
   ]
  },
  {
   "cell_type": "code",
   "execution_count": 9,
   "id": "eef5e83d",
   "metadata": {},
   "outputs": [
    {
     "data": {
      "text/plain": [
       "array([[-0.81321136, -0.54428819, -0.76190476, ...,  0.11223819,\n",
       "        -0.09445719,  0.        ],\n",
       "       [ 0.39804514,  0.56480561,  0.57142857, ..., -0.4920924 ,\n",
       "         0.2057182 ,  0.95238095],\n",
       "       [-0.93456192, -1.20460785,  0.95238095, ...,  0.8918681 ,\n",
       "        -0.64797231, -0.19047619],\n",
       "       ...,\n",
       "       [-0.10247884,  0.76134724, -0.19047619, ...,  0.35275698,\n",
       "         0.24504982, -0.38095238],\n",
       "       [-1.15551201,  0.12946076,  1.52380952, ...,  0.31474146,\n",
       "        -0.62473862,  0.76190476],\n",
       "       [-0.0126898 , -0.61605599, -1.14285714, ...,  0.48278559,\n",
       "         0.02543174, -0.57142857]])"
      ]
     },
     "execution_count": 9,
     "metadata": {},
     "output_type": "execute_result"
    }
   ],
   "source": [
    "rob_scale = RobustScaler()\n",
    "\n",
    "rob_scale.fit(X)\n",
    "\n",
    "rob_scale.transform(X)"
   ]
  },
  {
   "cell_type": "code",
   "execution_count": 10,
   "id": "daab6eac",
   "metadata": {},
   "outputs": [
    {
     "data": {
      "text/plain": [
       "array([ 1.54436619e+03,  2.46100019e+02,  1.06441000e+05,  4.98386954e+01,\n",
       "       -1.09080829e+03,  4.71810000e+04,  1.67662000e+05, -3.45101309e+01,\n",
       "        8.73880000e+04,  3.43361226e+03, -8.96186490e+01,  1.99276047e+03,\n",
       "        1.56554637e+03,  1.75852000e+05, -8.27690373e+01,  2.99123709e+02,\n",
       "        6.11550000e+04,  4.68060676e+01,  3.50370263e+03,  5.53820000e+04])"
      ]
     },
     "execution_count": 10,
     "metadata": {},
     "output_type": "execute_result"
    }
   ],
   "source": [
    "rob_scale.center_"
   ]
  },
  {
   "cell_type": "code",
   "execution_count": 11,
   "id": "d246957a",
   "metadata": {},
   "outputs": [
    {
     "data": {
      "text/plain": [
       "array([ 1.54436619e+03,  2.46100019e+02,  1.06441000e+05,  4.98386954e+01,\n",
       "       -1.09080829e+03,  4.71810000e+04,  1.67662000e+05, -3.45101309e+01,\n",
       "        8.73880000e+04,  3.43361226e+03, -8.96186490e+01,  1.99276047e+03,\n",
       "        1.56554637e+03,  1.75852000e+05, -8.27690373e+01,  2.99123709e+02,\n",
       "        6.11550000e+04,  4.68060676e+01,  3.50370263e+03,  5.53820000e+04])"
      ]
     },
     "execution_count": 11,
     "metadata": {},
     "output_type": "execute_result"
    }
   ],
   "source": [
    "np.median(X, axis=0)"
   ]
  },
  {
   "cell_type": "code",
   "execution_count": 12,
   "id": "12497769",
   "metadata": {},
   "outputs": [
    {
     "data": {
      "text/plain": [
       "array([1.21069794e+03, 4.00264279e+03, 2.94157500e+04, 2.95252842e+03,\n",
       "       9.97645338e+03, 1.24200000e+04, 4.41450000e+04, 4.70064595e+02,\n",
       "       2.18550000e+04, 3.05318429e+03, 1.81176006e+03, 9.20794058e+03,\n",
       "       1.40716720e+03, 5.55300000e+04, 4.03593302e+02, 3.18248056e+03,\n",
       "       1.74540000e+04, 5.38988293e+01, 4.18624888e+03, 1.45372500e+04])"
      ]
     },
     "execution_count": 12,
     "metadata": {},
     "output_type": "execute_result"
    }
   ],
   "source": [
    "rob_scale.scale_"
   ]
  },
  {
   "cell_type": "markdown",
   "id": "40c06081",
   "metadata": {},
   "source": [
    "##### 4. Scaling mixed columns\n",
    "\n",
    "When your data includes both quantitative and categorical variables scaling gets slightly more tricky. Demonstrate this by running the `X` below through `StandardScaler`."
   ]
  },
  {
   "cell_type": "code",
   "execution_count": 13,
   "id": "900600a0",
   "metadata": {},
   "outputs": [],
   "source": [
    "X = np.zeros((100,4))\n",
    "\n",
    "X[:,0] = np.random.randn(100)*10 + 89\n",
    "X[:,1] = np.random.binomial(1, .4, 100)\n",
    "X[:,2] = np.random.binomial(1, .6, 100)\n",
    "X[:,3] = np.random.binomial(1, .8, 100)"
   ]
  },
  {
   "cell_type": "code",
   "execution_count": 14,
   "id": "0343a151",
   "metadata": {},
   "outputs": [
    {
     "data": {
      "text/plain": [
       "array([[ 69.80368503,   0.        ,   1.        ,   1.        ],\n",
       "       [ 90.69259659,   0.        ,   0.        ,   1.        ],\n",
       "       [106.09862423,   0.        ,   0.        ,   1.        ],\n",
       "       [ 85.09049446,   1.        ,   1.        ,   0.        ],\n",
       "       [ 66.30189825,   1.        ,   0.        ,   0.        ],\n",
       "       [ 82.83929007,   0.        ,   1.        ,   0.        ],\n",
       "       [100.81836442,   1.        ,   0.        ,   1.        ],\n",
       "       [ 68.24697839,   1.        ,   0.        ,   1.        ],\n",
       "       [ 85.4479043 ,   0.        ,   1.        ,   0.        ],\n",
       "       [ 73.59894067,   0.        ,   1.        ,   1.        ]])"
      ]
     },
     "execution_count": 14,
     "metadata": {},
     "output_type": "execute_result"
    }
   ],
   "source": [
    "## First 10 rows of X\n",
    "## note that columns 1, 2, 3 are binary categorical variables\n",
    "## while column 0 is quantitative\n",
    "X[:10,:]"
   ]
  },
  {
   "cell_type": "code",
   "execution_count": 15,
   "id": "fcc97afa",
   "metadata": {},
   "outputs": [
    {
     "data": {
      "text/plain": [
       "array([[-1.5300141 , -0.78288136,  0.92295821,  0.531085  ],\n",
       "       [ 0.28195912, -0.78288136, -1.08347268,  0.531085  ],\n",
       "       [ 1.61832887, -0.78288136, -1.08347268,  0.531085  ],\n",
       "       [-0.20398573,  1.27733275,  0.92295821, -1.88293774],\n",
       "       [-1.83377065,  1.27733275, -1.08347268, -1.88293774],\n",
       "       [-0.39926264, -0.78288136,  0.92295821, -1.88293774],\n",
       "       [ 1.16030169,  1.27733275, -1.08347268,  0.531085  ],\n",
       "       [-1.66504797,  1.27733275, -1.08347268,  0.531085  ],\n",
       "       [-0.17298282, -0.78288136,  0.92295821, -1.88293774],\n",
       "       [-1.20080108, -0.78288136,  0.92295821,  0.531085  ]])"
      ]
     },
     "execution_count": 15,
     "metadata": {},
     "output_type": "execute_result"
    }
   ],
   "source": [
    "scale = StandardScaler()\n",
    "\n",
    "scale.fit(X)\n",
    "\n",
    "scale.transform(X)[:10, :]"
   ]
  },
  {
   "cell_type": "markdown",
   "id": "54d6113a",
   "metadata": {},
   "source": [
    "We should see that our three binary variables have been turned into nonsense columns. What we actually want is to scale column `0` but not columns `1,2,3`.\n",
    "\n",
    "You can do this, but it is slightly more complicated than what `sklearn`'s set scaler objects are capable of. You can see one approach to dealing with this kind of situation in the next optional extra practice notebook \"More Advanced Pipelines\"."
   ]
  },
  {
   "cell_type": "markdown",
   "id": "bfb00f0c",
   "metadata": {},
   "source": [
    "--------------------------\n",
    "\n",
    "This notebook was written for the Erd&#337;s Institute C&#337;de Data Science Boot Camp by Matthew Osborne, Ph. D., 2023.\n",
    "\n",
    "Any potential redistributors must seek and receive permission from Matthew Tyler Osborne, Ph.D. prior to redistribution. Redistribution of the material contained in this repository is conditional on acknowledgement of Matthew Tyler Osborne, Ph.D.'s original authorship and sponsorship of the Erdős Institute as subject to the license (see License.md)"
   ]
  }
 ],
 "metadata": {
  "kernelspec": {
   "display_name": "erdos_fall_2024",
   "language": "python",
   "name": "python3"
  },
  "language_info": {
   "codemirror_mode": {
    "name": "ipython",
    "version": 3
   },
   "file_extension": ".py",
   "mimetype": "text/x-python",
   "name": "python",
   "nbconvert_exporter": "python",
   "pygments_lexer": "ipython3",
   "version": "3.12.5"
  }
 },
 "nbformat": 4,
 "nbformat_minor": 5
}

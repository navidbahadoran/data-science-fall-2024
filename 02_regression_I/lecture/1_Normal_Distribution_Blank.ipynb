{
 "cells": [
  {
   "cell_type": "markdown",
   "metadata": {},
   "source": [
    "# The Normal Distribution\n",
    "\n",
    "## What we will accomplish in this notebook\n",
    "\n",
    "In this notebook we will:\n",
    "- Give informal definitions of some important concepts from probability theory:\n",
    "    - Continuous random variables\n",
    "    - What is means for a random variable to be normally distributed with mean $\\mu$ and variance $\\sigma^2$ \n",
    "    - Probability Density Function (PDF) of a continuous random variable\n",
    "    - Cumulative Distribution Function (CDF) of a continuous random variable\n",
    "    - State the Central Limit Theorem (CLT)"
   ]
  },
  {
   "cell_type": "markdown",
   "metadata": {},
   "source": [
    "Data science is about gaining insights from data in the face of uncertainty and variability.  \n",
    "\n",
    "The first model we will study in this course is **linear regression**.  To specify this model we first need some basic tools for quantifying \"random variability\".  We will start with **normally distributed random variables**."
   ]
  },
  {
   "cell_type": "markdown",
   "metadata": {},
   "source": [
    "The Gaussian function with mean $\\mu$ and variance $\\sigma^2$ is defined as follows:\n",
    "\n",
    "$$\n",
    "f(x) = \\frac{1}{\\sqrt{2\\pi \\sigma^2}} \\exp\\left( -\\frac{1}{2} \\frac{(x - \\mu)^2}{\\sigma^2}\\right)\n",
    "$$\n",
    "\n",
    "Note that $\\sigma = \\sqrt{\\sigma^2}$ is called the standard deviation.  It is often more convenient mathematically to work directly with $\\sigma^2$ as a parameter.\n",
    "\n",
    "The **standard Gaussian** with $\\mu = 0, \\sigma = 1$ is an important special case.  All Gaussians can be thought of as scaled and shifted versions of this standard Gaussian.\n",
    "\n",
    "You can play with an interactive graph to see how the parameters $\\mu$ and $\\sigma^2$ impact the shape of this function [here](https://www.desmos.com/calculator/g6u3qpry7h).\n",
    "\n",
    "<img src=\"lecture_assets/gaussian.png\" width=\"60%\"></img>\n",
    "\n",
    "Important points:\n",
    "\n",
    "* The maximum value is achieved at $x = \\mu$.\n",
    "* $f$ is symmetric about the line $x = \\mu$.\n",
    "* $f$ has points of inflection at $x = \\pm \\sigma$.\n",
    "* $f$ is continuous everywhere.\n",
    "* $f(x) \\geq 0$ for all $x \\in \\mathbb{R}$.\n",
    "* The integral of $f$ from $-\\infty$ to $\\infty$ is 1.\n",
    "\n",
    "The last three points allow us to use this function as a **probability density function** (pdf).  What do we mean by that?\n",
    "\n",
    "Imagine that we are conducting an experiment whose outcome could, theoretically, be any real number.  For example we might measure the weight loss of an individual after 3 months on a particular treatment.  Positive numbers would represent losses and negative numbers would represent weight gains.  Call the amount of weight lost $X$.  This is an example of a **random variable**.\n",
    "\n",
    "In the graph of $f$ above, these outcomes would be represented by points on the horizontal axis.  If we want to calculate the probability that $X$ is between two values $a$ and $b$ we **integrate** the probability density function from $a$ to $b$:\n",
    "\n",
    "$$\n",
    "P(a < X < b) = \\int_a^b f(x)\\textrm{ d}x\n",
    "$$\n",
    "\n",
    "<img src=\"lecture_assets/gauss_int.png\" width=\"60%\"></img>\n",
    "\n",
    "* Continuity of the function $f$ ensures that this integral is well defined.\n",
    "* Positivity of $f$ ensures that the probability is positive.\n",
    "* $P(-\\infty < X < \\infty) = 1$ since $f$ integrates to 1.\n",
    "\n",
    "A few of these normal distribution integrals are so common that you should probably memorize these approximations:\n",
    "\n",
    "* $P(\\mu-\\sigma < X < \\mu+\\sigma) \\approx 0.68$\n",
    "* $P(\\mu-2\\sigma < X < \\mu+2\\sigma) \\approx 0.95$\n",
    "* $P(\\mu-3\\sigma < X < \\mu+3\\sigma) \\approx 0.997$\n",
    "\n",
    "In words, if $X$ is normally distributed then $68\\%$ of observations will be within one standard deviation of the mean, $95\\%$ of observations will be within two standard deviations of the mean, and $99.7\\%$ of observations will be within three standard deviations of the mean.  \n",
    "\n",
    "Notice that these integrals are independent of the mean $\\mu$ and standard deviation $\\sigma$!  We will see why in just a moment.\n",
    "\n",
    "The **cumulative distribution function** $F$ of a random variable $X$ with pdf $f$ is defined by\n",
    "\n",
    "$$\n",
    "F_X(x) = P(X < x) = \\int_{-\\infty}^x f(t)\n",
    "$$\n",
    "\n",
    "In the case that $X \\sim \\mathcal{N}(\\mu,\\sigma^2)$ we have\n",
    "\n",
    "$$\n",
    "\\begin{align*}\n",
    "F_X(x) \n",
    "&= P(X < x)\\\\\n",
    "&= \\int_{-\\infty}^{t = x} \\frac{1}{\\sqrt{2\\pi \\sigma^2}} \\exp\\left( -\\frac{1}{2} \\frac{(t - \\mu)^2}{\\sigma^2}\\right) \\textrm{ d}t\n",
    "\\end{align*}\n",
    "$$\n",
    "\n",
    "Let $z = \\frac{t - \\mu}{\\sigma}$.\n",
    "\n",
    "$$\n",
    "\\int_{-\\infty}^{z = \\frac{x-\\mu}{\\sigma}} \\frac{1}{\\sqrt{2\\pi}} \\exp\\left( -\\frac{z^2}{2}\\right) \\textrm{ d}z\n",
    "$$\n",
    "\n",
    "Notice how we have obtained a *standard normal* cdf computation after making this change of variables!  We define $z = \\frac{x-\\mu}{\\sigma}$ as the $z$-score.  It can only be computed if $\\mu$ and $\\sigma^2$ are **known** quantities, which is rarely the case in practice.  We generally have **point estimates** of these parameters instead. \n",
    "\n",
    "Traditionally the cdf of the standard normal distribution was computed by hand using numerical algorithms to a desired precision.  These values were written down in tables.  We will use Python instead!\n"
   ]
  },
  {
   "cell_type": "code",
   "execution_count": 12,
   "metadata": {},
   "outputs": [],
   "source": [
    "from scipy import stats\n",
    "\n",
    "# X is a standard normal random variable \n",
    "X = stats.norm(loc = 0,scale = 1)"
   ]
  },
  {
   "cell_type": "code",
   "execution_count": null,
   "metadata": {},
   "outputs": [],
   "source": [
    "# X.cdf(x) gives P(X<x).\n",
    "X.cdf(1)"
   ]
  },
  {
   "cell_type": "markdown",
   "metadata": {},
   "source": [
    "QUESTION:  Before scrolling below the fold think about how you could use `X.cdf` to compute more precise values for the 68, 95, 99.7 rule we saw above.\n",
    "\n",
    "__________\n"
   ]
  },
  {
   "cell_type": "code",
   "execution_count": null,
   "metadata": {},
   "outputs": [],
   "source": [
    "print(X.cdf(1) - X.cdf(-1))\n",
    "print(X.cdf(2) - X.cdf(-2))\n",
    "print(X.cdf(3) - X.cdf(-3))"
   ]
  },
  {
   "cell_type": "code",
   "execution_count": null,
   "metadata": {},
   "outputs": [],
   "source": [
    "# Plot the standard normal pdf and cdf\n",
    "\n",
    "import numpy as np\n",
    "import matplotlib.pyplot as plt\n",
    "\n",
    "mean = 0\n",
    "std = 1\n",
    "\n",
    "x = np.linspace(mean - 3*std, mean + 3*std,1000)\n",
    "plt.plot(x,X.pdf(x),'b')\n",
    "\n",
    "plt.show()\n",
    "\n",
    "x = np.linspace(mean - 3*std, mean + 3*std,1000)\n",
    "plt.plot(x,X.cdf(x),'b')\n",
    "\n",
    "plt.show()"
   ]
  },
  {
   "cell_type": "markdown",
   "metadata": {},
   "source": [
    "QUESTION:  Before scrolling below the fold think about how you could use Python to answer the following question.\n",
    "\n",
    "Assume that $X$ is normally distributed with mean $5$ and standard deviation $1.3$.  What is the probability of obtaining a value greater than $7$?\n",
    "\n",
    "-----------"
   ]
  },
  {
   "cell_type": "markdown",
   "metadata": {},
   "source": [
    "Solution 1:\n",
    "\n",
    "$P(X > 7) = 1 - P(X<7)$.  So we just need to take `1-X.cdf(7)` where `X` is normally distributed with mean $5$ and scale $1.3$."
   ]
  },
  {
   "cell_type": "code",
   "execution_count": null,
   "metadata": {},
   "outputs": [],
   "source": [
    "X = stats.norm(loc = 5,scale = 1.3)\n",
    "print(f\" There is a {100*(1 - X.cdf(7)):.2f}% chance of X being larger than 7.\")"
   ]
  },
  {
   "cell_type": "markdown",
   "metadata": {},
   "source": [
    "Solution 2:\n",
    "\n",
    "We have a $z$ score of $\\frac{7-5}{1.3} = \\frac{2}{1.3}$.  So using the cdf of the standard normal distribution we have:"
   ]
  },
  {
   "cell_type": "code",
   "execution_count": null,
   "metadata": {},
   "outputs": [],
   "source": [
    "X = stats.norm(loc = 0,scale = 1)\n",
    "print(f\" There is a {100*(1 - X.cdf(2/1.3)):.2f}% chance of X being larger than 7.\")"
   ]
  },
  {
   "cell_type": "markdown",
   "metadata": {},
   "source": [
    "We can draw a random sample from our distribution as follows:"
   ]
  },
  {
   "cell_type": "code",
   "execution_count": null,
   "metadata": {},
   "outputs": [],
   "source": [
    "# rvs stands for \"random variates\"\n",
    "X.rvs(size = (4,2))"
   ]
  },
  {
   "cell_type": "code",
   "execution_count": null,
   "metadata": {},
   "outputs": [],
   "source": [
    "# We can also use numpy to return samples from the standard normal distribution:\n",
    "\n",
    "print(np.random.randn(4,2))\n",
    "\n",
    "# or from another normal distribution with specified mean and standard deviation:\n",
    "\n",
    "print(np.random.normal(loc = 2, scale = 3, size = (4,2)))"
   ]
  },
  {
   "cell_type": "code",
   "execution_count": null,
   "metadata": {},
   "outputs": [],
   "source": [
    "# A histogram helps to illustrate the connection to the pdf.\n",
    "\n",
    "nobs = 5000\n",
    "num_bins = 50\n",
    "\n",
    "random_draws = X.rvs(size = nobs)\n",
    "plt.hist(random_draws, bins=num_bins)\n",
    "\n",
    "mean = 0\n",
    "std = 1\n",
    "\n",
    "x = np.linspace(-3,3,1000) \n",
    "bin_width = (random_draws.max() - random_draws.min()) / num_bins\n",
    "\n",
    "# In a bin containing x the fraction of total samples should be roughly\n",
    "# stats.norm.pdf(x) * bin_width\n",
    "# Since there are nobs total samples, we should expect roughly\n",
    "# stats.norm.pdf(x) * nobs * bin_width \n",
    "# samples in a bin containing x.\n",
    "plt.plot(x, stats.norm.pdf(x) * nobs * bin_width)\n",
    "\n",
    "plt.show()"
   ]
  },
  {
   "cell_type": "markdown",
   "metadata": {},
   "source": [
    "## The Central Limit Theorem\n",
    "\n",
    "Why is the normal distribution important? The usual answer to this question is the **central limit theorem** (CLT).  It would be more correct to say \"theorems\" since there are a family of similar results.  All of these results say something about mean of a sequence of random variables converging to a normal distribution.  Often the random variables are assumed to be independent and identically distributed but this can be relaxed.  One version, known as Lyapunov's CLT, is particularly \"convincing\":\n",
    "\n",
    "**Lyapunov's CLT**\n",
    "\n",
    "Let random variables $X_i$ be independent with expected values $\\mu_i$ and variances $\\sigma_i^2$ satisfying a slightly technical condition called [Lyapunov's condition](https://en.wikipedia.org/wiki/Central_limit_theorem#Lyapunov_CLT).\n",
    "\n",
    "Define\n",
    "\n",
    "$$s_n^2 = \\sum_{i=1}^n \\sigma_i^2 $$\n",
    "\n",
    "then we have the following convergence ([in distribution](https://en.wikipedia.org/wiki/Convergence_of_random_variables#Convergence_in_distribution)) as $n \\to \\infty$:\n",
    "\n",
    "$$\\frac{1}{s_n}\\,\\sum_{i=1}^{n} \\left(X_i - \\mu_i\\right) \\mathrel{\\overset{d}{\\longrightarrow}} \\mathcal{N}(0,1) $$\n",
    "\n",
    "This theorem tells us that we should expect to see normal distributions arising frequently in nature:  whenever something we measure is actually a sum or average of many independent stochastic constituent parts the measurement will follow a normal distribution.\n",
    "\n",
    "For example, imagine we measure blood pressure across a population.  Each individual's blood pressure, on each individual day, is subject to many independent random perturbations:  how much salt the person ate in the hour before, how hydrated they are, whether they were exercising immediately before measurement, their overall diet, their overall exercise level, a multitude of different genetic factors which are randomly distributed through the population, etc.  If we believe that each of these hundreds of different determining factors could be modeled as independent random variables with *additive* effects on the final blood pressure measurement, then we should expect to see the distribution of blood pressures normally distributed in the population.\n",
    "\n",
    "More commonly, however, rather than seeing our *direct measurements* being normally distributed we will use the fact that the sampling distribution of the mean should be roughly normal no matter what the underlying population distribution.\n",
    "\n",
    "Let's see the CLT in action:"
   ]
  },
  {
   "cell_type": "code",
   "execution_count": null,
   "metadata": {},
   "outputs": [],
   "source": [
    "# Defining an alpha random variable \n",
    "from scipy.stats import alpha\n",
    "rv = alpha(3) \n",
    "\n",
    "#plotting the pdf.  rv is not normally distributed!\n",
    "plt.plot(np.linspace(0,1,1000), rv.pdf(np.linspace(0,1, 1000)), 'k-')\n",
    "plt.show()"
   ]
  },
  {
   "cell_type": "code",
   "execution_count": null,
   "metadata": {},
   "outputs": [],
   "source": [
    "# Find the mean of 10 draws from this distribution.  Repeat 1000 times.\n",
    "samples = rv.rvs(size = (1000,10))\n",
    "\n",
    "# finding the sample means\n",
    "sample_means = samples.mean(axis = 1)\n",
    "\n",
    "# plotting a histogram of the sample means\n",
    "\n",
    "plt.hist(random_draws, bins=num_bins)\n",
    "\n",
    "plt.show()"
   ]
  },
  {
   "cell_type": "markdown",
   "metadata": {},
   "source": [
    "### Optional practice problems for you to complete after the lecture:"
   ]
  },
  {
   "cell_type": "code",
   "execution_count": 22,
   "metadata": {},
   "outputs": [],
   "source": [
    "# Define a normal random variable X with mean 10 and standard deviation 2.\n"
   ]
  },
  {
   "cell_type": "code",
   "execution_count": null,
   "metadata": {},
   "outputs": [],
   "source": [
    "# Find P(|X-11| > 3)\n"
   ]
  },
  {
   "cell_type": "code",
   "execution_count": null,
   "metadata": {},
   "outputs": [],
   "source": [
    "# Graph the pdf and cdf of $X$.  Shade the area under the pdf where |X-11| > 3.\n"
   ]
  },
  {
   "cell_type": "code",
   "execution_count": null,
   "metadata": {},
   "outputs": [],
   "source": [
    "# Draw 10000 random samples from this distribution and find what fraction of them have |X - 11| > 3.  \n",
    "# Is the answer close to the probability you calculated?\n"
   ]
  }
 ],
 "metadata": {
  "kernelspec": {
   "display_name": "ds-boot-camp-prep",
   "language": "python",
   "name": "python3"
  },
  "language_info": {
   "codemirror_mode": {
    "name": "ipython",
    "version": 3
   },
   "file_extension": ".py",
   "mimetype": "text/x-python",
   "name": "python",
   "nbconvert_exporter": "python",
   "pygments_lexer": "ipython3",
   "version": "3.12.5"
  }
 },
 "nbformat": 4,
 "nbformat_minor": 2
}

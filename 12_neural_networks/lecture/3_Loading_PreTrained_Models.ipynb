{
 "cells": [
  {
   "cell_type": "markdown",
   "id": "1fa7277b",
   "metadata": {},
   "source": [
    "# Loading Pre-Trained Models\n",
    "\n",
    "Real world neural net models can take a long long long time to train. It is thus standard to save these models once they are fit and then load the fitted model at a later time.\n",
    "\n",
    "## What we will accomplish\n",
    "\n",
    "In this notebook we will:\n",
    "- Cover how to load a saved neural network model."
   ]
  },
  {
   "cell_type": "code",
   "execution_count": 1,
   "id": "932035cc",
   "metadata": {},
   "outputs": [],
   "source": [
    "## For data handling\n",
    "import pandas as pd\n",
    "import numpy as np\n",
    "\n",
    "## For plotting\n",
    "import matplotlib.pyplot as plt\n",
    "from seaborn import set_style\n",
    "\n",
    "## This sets the plot style\n",
    "## to have a grid on a white background\n",
    "set_style(\"whitegrid\")"
   ]
  },
  {
   "cell_type": "markdown",
   "id": "38e170d9",
   "metadata": {},
   "source": [
    "## `keras` and `load_model`\n",
    "\n",
    "In the previous notebook we trained a recurrent neural network (RNN) to predict the sentiment of an IMDB movie review. This model did not take a long time to train, but many real-world models take a very long time to train. For example, the popular `Word2Vec` word embedding network took about a day to train.\n",
    "\n",
    "Such models are saved when the training step is complete and then they are reloaded anytime you want to use them.\n",
    "\n",
    "In `keras` a saved model can be loaded with `load_model`. Let's demonstrate this with the IMDB data set."
   ]
  },
  {
   "cell_type": "code",
   "execution_count": 2,
   "id": "521a35c6",
   "metadata": {},
   "outputs": [],
   "source": [
    "## The data is stored in here\n",
    "from keras.datasets import imdb"
   ]
  },
  {
   "cell_type": "code",
   "execution_count": 3,
   "id": "df6bc80c",
   "metadata": {},
   "outputs": [],
   "source": [
    "## This will determine the number of vocab words in our\n",
    "## dictionary\n",
    "max_features = 10000\n",
    "\n",
    "## num_words tells keras to return the reviews so they contain only\n",
    "## the num_words most used words across all the reviews\n",
    "(X_train, y_train), (X_test,y_test) = imdb.load_data(num_words=max_features)"
   ]
  },
  {
   "cell_type": "code",
   "execution_count": 4,
   "id": "63f15ddc",
   "metadata": {},
   "outputs": [],
   "source": [
    "## While we padded our inputs during training, \n",
    "# the fit RNN model can handle variable length or \"ragged\" inputs.\n",
    "from tensorflow import convert_to_tensor\n",
    "from tensorflow import ragged\n",
    "\n",
    "X_train = ragged.constant(X_train)\n",
    "X_test = ragged.constant(X_test)\n",
    "y_train = convert_to_tensor(y_train)\n",
    "y_test = convert_to_tensor(y_test)"
   ]
  },
  {
   "cell_type": "code",
   "execution_count": 5,
   "id": "6f88c502",
   "metadata": {},
   "outputs": [],
   "source": [
    "## import load_model from keras.models\n",
    "from keras.models import load_model"
   ]
  },
  {
   "cell_type": "markdown",
   "id": "41f1fb30",
   "metadata": {},
   "source": [
    "To load a saved model we just have to call `load_model` with the file name."
   ]
  },
  {
   "cell_type": "code",
   "execution_count": 6,
   "id": "9b55f4ab",
   "metadata": {},
   "outputs": [],
   "source": [
    "## call load_model(filename)\n",
    "model = load_model(\"lecture_12_assets/imdb_model.keras\")"
   ]
  },
  {
   "cell_type": "markdown",
   "id": "1adeb938",
   "metadata": {},
   "source": [
    "Now the trained model is loaded and we can use it to make predictions."
   ]
  },
  {
   "cell_type": "code",
   "execution_count": 7,
   "id": "09a1f6e8",
   "metadata": {},
   "outputs": [
    {
     "name": "stdout",
     "output_type": "stream",
     "text": [
      "\u001b[1m1/1\u001b[0m \u001b[32m━━━━━━━━━━━━━━━━━━━━\u001b[0m\u001b[37m\u001b[0m \u001b[1m0s\u001b[0m 62ms/step\n",
      "Our model gives a predicted probability of 0.183 that the review is positive.  The review was actually positive.\n"
     ]
    }
   ],
   "source": [
    "# Try 201 and 203\n",
    "i = 203\n",
    "pred = model.predict(X_test[i].numpy().reshape(1,-1)) # expects batch number as first dimension. \n",
    "sentiment_dict = {0: 'negative', 1: 'positive'}\n",
    "print(f\"Our model gives a predicted probability of {pred[0,0]:.3f} that the review is positive.  The review was actually {sentiment_dict[y_test[i].numpy()]}.\")"
   ]
  },
  {
   "cell_type": "markdown",
   "id": "a317026d",
   "metadata": {},
   "source": [
    "Or we can look at the weights of the trained model."
   ]
  },
  {
   "cell_type": "code",
   "execution_count": 8,
   "id": "767676f9",
   "metadata": {},
   "outputs": [
    {
     "data": {
      "text/plain": [
       "[array([[-0.00955029,  0.09020163,  0.15482001, ...,  0.05852628,\n",
       "         -0.10460366,  0.00428249],\n",
       "        [-0.07142421,  0.15328199,  0.12531064, ...,  0.10399185,\n",
       "          0.00538099, -0.04588676],\n",
       "        [-0.00088184,  0.05750885,  0.02828215, ...,  0.00837536,\n",
       "         -0.04085816,  0.0441929 ],\n",
       "        ...,\n",
       "        [ 0.02989939,  0.02868078,  0.05131343, ...,  0.03839801,\n",
       "         -0.00516021,  0.01571408],\n",
       "        [-0.00679558,  0.02967517, -0.01231893, ...,  0.04008144,\n",
       "          0.02406914,  0.02288069],\n",
       "        [-0.03507019,  0.03938318, -0.01263627, ..., -0.03759237,\n",
       "          0.03781384, -0.03956565]], dtype=float32),\n",
       " array([[-0.11477597, -0.00259515, -0.04120783, -0.4156671 , -0.2330362 ,\n",
       "          0.00558867,  0.34775174,  0.2886939 ,  0.38747707, -0.39379835],\n",
       "        [-0.2665534 , -0.31717026,  0.14469452, -0.19049396, -0.03049696,\n",
       "         -0.30144963,  0.4463985 , -0.00889164,  0.42772824, -0.21537282],\n",
       "        [ 0.22158796, -0.15750942, -0.34640843,  0.24160856, -0.35207126,\n",
       "         -0.19559735,  0.30118525,  0.16293496,  0.11011193,  0.26957586],\n",
       "        [-0.02529627,  0.03829728, -0.2202569 ,  0.46992776, -0.29368034,\n",
       "         -0.38372475,  0.28092623,  0.02244986, -0.28083757,  0.4483778 ],\n",
       "        [ 0.32256922, -0.35720056,  0.32402158, -0.33850294, -0.08379788,\n",
       "         -0.29901856,  0.32696536, -0.15641454,  0.1767066 , -0.29508382],\n",
       "        [-0.07933605,  0.37995347, -0.12696029,  0.05215591,  0.15456656,\n",
       "         -0.15395445, -0.19187616, -0.42860535,  0.36376393, -0.18746181],\n",
       "        [-0.11602307, -0.22301373,  0.13170552, -0.39543602,  0.3499928 ,\n",
       "         -0.14660887,  0.3128503 , -0.11282396, -0.05319064, -0.01565381],\n",
       "        [-0.00834046, -0.15654126, -0.1876867 ,  0.22813372, -0.3049645 ,\n",
       "         -0.27980593,  0.21626318,  0.35339293,  0.09415742,  0.4165108 ],\n",
       "        [ 0.12930891, -0.23653477, -0.20235759,  0.08965749, -0.13572276,\n",
       "         -0.18592606, -0.41078222, -0.17138831,  0.2995366 ,  0.06983346],\n",
       "        [ 0.04111004,  0.10637496, -0.38351795,  0.09273374, -0.0196836 ,\n",
       "          0.18488006, -0.07498839, -0.27524486, -0.03872717, -0.06729586],\n",
       "        [-0.27268532,  0.1464626 ,  0.24714324,  0.00086366, -0.19645534,\n",
       "         -0.4173846 , -0.08929676, -0.11871873, -0.10794325, -0.28296474],\n",
       "        [ 0.22495434, -0.402291  , -0.38292763,  0.3231987 , -0.4589796 ,\n",
       "         -0.13079414,  0.16130927,  0.18294066,  0.3567448 ,  0.00239115],\n",
       "        [ 0.29069847,  0.17477185, -0.45678085, -0.037475  , -0.32291237,\n",
       "          0.33640093, -0.25308028,  0.30448732,  0.09895448, -0.22610472],\n",
       "        [ 0.35753405, -0.05142006, -0.19167863,  0.40397173, -0.14479318,\n",
       "         -0.11511053, -0.33083197,  0.355272  ,  0.0953771 , -0.24541466],\n",
       "        [-0.05822255,  0.34657916, -0.34099206,  0.20780462,  0.13010304,\n",
       "         -0.15372224,  0.39304882, -0.270089  , -0.42018738,  0.06076857],\n",
       "        [-0.25389925,  0.37180862,  0.42282113, -0.07889234,  0.30876756,\n",
       "          0.14246935,  0.21567418, -0.46413592,  0.24433981,  0.10191999],\n",
       "        [ 0.2564893 ,  0.21717344,  0.36172605, -0.31381887,  0.02355352,\n",
       "          0.21924336,  0.15932986, -0.33815137,  0.25931337,  0.10216121],\n",
       "        [-0.02108521,  0.0356178 , -0.1514197 , -0.12015174, -0.30083507,\n",
       "          0.43963173,  0.33366507, -0.3824526 , -0.39066848,  0.20932953],\n",
       "        [-0.03954856,  0.35308218, -0.17751952, -0.34858838,  0.43388993,\n",
       "         -0.07069983,  0.24199376, -0.07524649, -0.3293791 , -0.16099568],\n",
       "        [-0.0165663 , -0.33385962, -0.27650028, -0.11417615, -0.02026727,\n",
       "         -0.27783754, -0.14274973,  0.24428996, -0.15358606, -0.03346296],\n",
       "        [-0.25745672,  0.11069857, -0.4004972 , -0.33702195, -0.3386034 ,\n",
       "         -0.2659537 ,  0.13687761,  0.30861476, -0.13811578, -0.35854834],\n",
       "        [ 0.15807272,  0.12471544,  0.12677033, -0.27608806,  0.1546327 ,\n",
       "         -0.23689248,  0.47974053, -0.05759593, -0.2529045 ,  0.35356846],\n",
       "        [ 0.38282228,  0.29918545,  0.3447341 , -0.3891169 ,  0.3601012 ,\n",
       "         -0.19496913, -0.14845291, -0.15154319,  0.24110706,  0.14477734],\n",
       "        [-0.02031605,  0.35211763,  0.19442596,  0.20136452, -0.05259451,\n",
       "          0.2427823 ,  0.2672947 , -0.18886247,  0.05957253,  0.29085484],\n",
       "        [-0.02536281, -0.39204186,  0.31947717,  0.29243666, -0.21926282,\n",
       "          0.38005817,  0.11868573,  0.4775309 ,  0.07883052, -0.01811908],\n",
       "        [ 0.12745498,  0.1575456 ,  0.02676844,  0.25405258,  0.1737384 ,\n",
       "          0.14128308,  0.39650938,  0.1998366 ,  0.2478284 ,  0.32394737],\n",
       "        [-0.22749864,  0.21803874, -0.22305502,  0.24561018,  0.10360761,\n",
       "          0.3743083 , -0.43015638, -0.22079183, -0.11064331, -0.39534625],\n",
       "        [ 0.4232492 ,  0.23269305, -0.13813047, -0.2671266 , -0.18176809,\n",
       "          0.18224292,  0.08250257,  0.26016116,  0.25383377,  0.06512377],\n",
       "        [-0.28043976, -0.23404324, -0.12687251, -0.27239364,  0.11889601,\n",
       "         -0.10903514, -0.38269156, -0.1778128 ,  0.3904287 ,  0.17433205],\n",
       "        [ 0.14763404,  0.10782143,  0.26406625, -0.15192828, -0.20191005,\n",
       "         -0.2101089 ,  0.30558455, -0.36724257, -0.11293197, -0.00124654],\n",
       "        [-0.14851432,  0.39414662,  0.00316985, -0.34687436,  0.4061023 ,\n",
       "          0.10547255,  0.28516215, -0.30220258, -0.05943446,  0.21300298],\n",
       "        [ 0.2280905 , -0.3103882 , -0.02290242, -0.03215521, -0.2655153 ,\n",
       "          0.4143221 , -0.25889963, -0.27787924, -0.36430153, -0.3200746 ]],\n",
       "       dtype=float32),\n",
       " array([[-2.5710514e-01, -2.9728636e-01, -3.7674746e-01, -1.2993328e-01,\n",
       "         -5.2294153e-01,  1.0673148e-01,  5.9839350e-01,  2.2665457e-01,\n",
       "         -3.6068693e-01,  2.2104928e-02],\n",
       "        [ 2.2087492e-01, -1.4256737e-01,  6.3042566e-02,  3.8639757e-01,\n",
       "          2.3757201e-01,  2.9059064e-01,  5.3300577e-01, -5.0877506e-01,\n",
       "          2.7486362e-02,  3.7110227e-01],\n",
       "        [ 2.2792596e-01,  6.9405055e-01, -1.7340882e-01,  1.7477012e-01,\n",
       "         -2.3375359e-01, -5.2760094e-01,  2.3530604e-01, -1.0531638e-01,\n",
       "         -7.2377011e-02,  1.5296507e-01],\n",
       "        [-2.4353448e-02, -1.7031410e-01, -4.0625685e-01, -1.6313104e-01,\n",
       "          1.7673083e-01, -1.5197693e-01, -3.7588865e-01,  6.8474899e-04,\n",
       "         -1.5409890e-01,  7.5177950e-01],\n",
       "        [-1.9053213e-01,  3.7567616e-01,  8.6639419e-02, -4.0035635e-01,\n",
       "         -3.6377367e-01,  5.1224226e-01,  4.9623877e-02, -6.6731438e-02,\n",
       "          4.2390677e-01,  3.1429639e-01],\n",
       "        [ 1.9859116e-01, -1.7394116e-02,  6.0453685e-03, -3.7725654e-01,\n",
       "         -2.0470929e-01,  7.5349636e-02, -2.4295104e-01, -6.2205267e-01,\n",
       "         -5.9594494e-01, -1.9147432e-01],\n",
       "        [-6.6274780e-01,  4.6769910e-02, -8.9826630e-03, -2.6433206e-01,\n",
       "          3.5364345e-01, -4.0375844e-01,  2.6279023e-01, -4.3877256e-01,\n",
       "          1.4562409e-01, -1.1351233e-01],\n",
       "        [ 1.8450467e-01, -5.1727575e-01,  8.9728750e-02, -5.8078207e-02,\n",
       "         -5.5359244e-01, -3.5269499e-01, -4.1282423e-02, -2.7513689e-01,\n",
       "          4.8797947e-01,  3.6024101e-02],\n",
       "        [-6.0281873e-01, -4.5030765e-02,  9.4969831e-02,  6.4329982e-01,\n",
       "         -4.3572840e-01,  7.6238833e-02, -3.6879539e-01, -2.4541527e-01,\n",
       "         -2.1815531e-01,  7.8965455e-02],\n",
       "        [-7.9030544e-02,  2.5766123e-02,  8.4539604e-01, -2.0586976e-01,\n",
       "          1.3908968e-02, -2.4852532e-01,  2.3556380e-01,  9.6283212e-02,\n",
       "         -3.6534515e-01,  3.5237557e-01]], dtype=float32),\n",
       " array([ 0.00352339, -0.00848173, -0.0041391 , -0.00227479, -0.01048354,\n",
       "         0.00293021, -0.00478212, -0.00382123,  0.00224263, -0.0034379 ],\n",
       "       dtype=float32),\n",
       " array([[-0.31653523],\n",
       "        [ 0.65991205],\n",
       "        [ 0.9207675 ],\n",
       "        [-1.0795784 ],\n",
       "        [ 0.8954928 ],\n",
       "        [-0.39940998],\n",
       "        [ 1.0017446 ],\n",
       "        [-0.8981541 ],\n",
       "        [-0.12471276],\n",
       "        [ 0.034843  ]], dtype=float32),\n",
       " array([-0.00710328], dtype=float32)]"
      ]
     },
     "execution_count": 8,
     "metadata": {},
     "output_type": "execute_result"
    }
   ],
   "source": [
    "## .get_weights()\n",
    "## returns the weights of your model\n",
    "model.get_weights()"
   ]
  },
  {
   "cell_type": "code",
   "execution_count": 9,
   "id": "81d1b6c7",
   "metadata": {},
   "outputs": [
    {
     "name": "stdout",
     "output_type": "stream",
     "text": [
      "(10000, 32)\n",
      "(32, 10)\n",
      "(10, 10)\n",
      "(10,)\n",
      "(10, 1)\n",
      "(1,)\n"
     ]
    }
   ],
   "source": [
    "for weight in model.get_weights():\n",
    "    print(weight.shape)"
   ]
  },
  {
   "cell_type": "markdown",
   "id": "1422e3ad",
   "metadata": {},
   "source": [
    "If we wanted to we could also train the model for additional epochs or perform any other kind of manipulations in which we may be interested."
   ]
  },
  {
   "cell_type": "markdown",
   "id": "c7ef56c4",
   "metadata": {},
   "source": [
    "## Model packages\n",
    "\n",
    "Sometimes pre-trained models will be important enough that they have their own separate python packages. For example, `gensim` for `Word2Vec` <a href=\"https://radimrehurek.com/gensim/auto_examples/tutorials/run_word2vec.html#sphx-glr-auto-examples-tutorials-run-word2vec-py\">https://radimrehurek.com/gensim/auto_examples/tutorials/run_word2vec.html#sphx-glr-auto-examples-tutorials-run-word2vec-py</a> and `Hugging Face` for `BERT` <a href=\"https://huggingface.co/\">https://huggingface.co/</a>."
   ]
  },
  {
   "cell_type": "markdown",
   "id": "65a444a0",
   "metadata": {},
   "source": [
    "--------------------------\n",
    "\n",
    "This notebook was written for the Erd&#337;s Institute C&#337;de Data Science Boot Camp by Matthew Osborne, Ph. D., 2023. Modified by Steven Gubkin 2024.\n",
    "\n",
    "Any potential redistributors must seek and receive permission from Matthew Tyler Osborne, Ph.D. prior to redistribution. Redistribution of the material contained in this repository is conditional on acknowledgement of Matthew Tyler Osborne, Ph.D.'s original authorship and sponsorship of the Erdős Institute as subject to the license (see License.md)"
   ]
  }
 ],
 "metadata": {
  "kernelspec": {
   "display_name": "erdos_fall_2024",
   "language": "python",
   "name": "python3"
  },
  "language_info": {
   "codemirror_mode": {
    "name": "ipython",
    "version": 3
   },
   "file_extension": ".py",
   "mimetype": "text/x-python",
   "name": "python",
   "nbconvert_exporter": "python",
   "pygments_lexer": "ipython3",
   "version": "3.12.5"
  }
 },
 "nbformat": 4,
 "nbformat_minor": 5
}
